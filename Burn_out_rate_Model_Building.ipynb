{
  "nbformat": 4,
  "nbformat_minor": 0,
  "metadata": {
    "colab": {
      "name": "Burn out rate Model Building.ipynb",
      "provenance": [],
      "collapsed_sections": [],
      "mount_file_id": "1bnhU-c5bmMcReDAs9_DCLZ6lHVxUN1_3",
      "authorship_tag": "ABX9TyNzFJyjFkubO2wwYp1JkX4d",
      "include_colab_link": true
    },
    "kernelspec": {
      "name": "python3",
      "display_name": "Python 3"
    },
    "language_info": {
      "name": "python"
    }
  },
  "cells": [
    {
      "cell_type": "markdown",
      "metadata": {
        "id": "view-in-github",
        "colab_type": "text"
      },
      "source": [
        "<a href=\"https://colab.research.google.com/github/YashK07/Burnout-Rate-Prediction-Heroku/blob/main/Burn_out_rate_Model_Building.ipynb\" target=\"_parent\"><img src=\"https://colab.research.google.com/assets/colab-badge.svg\" alt=\"Open In Colab\"/></a>"
      ]
    },
    {
      "cell_type": "markdown",
      "metadata": {
        "id": "JUfgE_etH6fQ"
      },
      "source": [
        "## **Import all the important libraries**"
      ]
    },
    {
      "cell_type": "code",
      "metadata": {
        "id": "-wCuyWrWXDNp"
      },
      "source": [
        "import pickle\n",
        "import pandas as pd\n",
        "import numpy as np\n",
        "import seaborn as sns\n",
        "from datetime import datetime,date\n",
        "from sklearn.preprocessing import OneHotEncoder\n",
        "from sklearn.linear_model import LinearRegression \n",
        "from xgboost import XGBRegressor\n",
        "from sklearn.model_selection import cross_val_score,RandomizedSearchCV\n",
        "from sklearn.ensemble import AdaBoostRegressor"
      ],
      "execution_count": 1,
      "outputs": []
    },
    {
      "cell_type": "code",
      "metadata": {
        "id": "kyI4BMQqXQTX"
      },
      "source": [
        "df = pd.read_csv('/content/drive/MyDrive/Burn out rate Project/data/train.csv')"
      ],
      "execution_count": 2,
      "outputs": []
    },
    {
      "cell_type": "code",
      "metadata": {
        "colab": {
          "base_uri": "https://localhost:8080/",
          "height": 441
        },
        "id": "2qpG1rEiXSoh",
        "outputId": "99d5f9c1-4241-4eac-b2c2-057d2e05feff"
      },
      "source": [
        "df"
      ],
      "execution_count": 3,
      "outputs": [
        {
          "output_type": "execute_result",
          "data": {
            "text/html": [
              "<div>\n",
              "<style scoped>\n",
              "    .dataframe tbody tr th:only-of-type {\n",
              "        vertical-align: middle;\n",
              "    }\n",
              "\n",
              "    .dataframe tbody tr th {\n",
              "        vertical-align: top;\n",
              "    }\n",
              "\n",
              "    .dataframe thead th {\n",
              "        text-align: right;\n",
              "    }\n",
              "</style>\n",
              "<table border=\"1\" class=\"dataframe\">\n",
              "  <thead>\n",
              "    <tr style=\"text-align: right;\">\n",
              "      <th></th>\n",
              "      <th>Employee ID</th>\n",
              "      <th>Date of Joining</th>\n",
              "      <th>Gender</th>\n",
              "      <th>Company Type</th>\n",
              "      <th>WFH Setup Available</th>\n",
              "      <th>Designation</th>\n",
              "      <th>Resource Allocation</th>\n",
              "      <th>Mental Fatigue Score</th>\n",
              "      <th>Burn Rate</th>\n",
              "    </tr>\n",
              "  </thead>\n",
              "  <tbody>\n",
              "    <tr>\n",
              "      <th>0</th>\n",
              "      <td>fffe32003000360033003200</td>\n",
              "      <td>2008-09-30</td>\n",
              "      <td>Female</td>\n",
              "      <td>Service</td>\n",
              "      <td>No</td>\n",
              "      <td>2.0</td>\n",
              "      <td>3.0</td>\n",
              "      <td>3.8</td>\n",
              "      <td>0.16</td>\n",
              "    </tr>\n",
              "    <tr>\n",
              "      <th>1</th>\n",
              "      <td>fffe3700360033003500</td>\n",
              "      <td>2008-11-30</td>\n",
              "      <td>Male</td>\n",
              "      <td>Service</td>\n",
              "      <td>Yes</td>\n",
              "      <td>1.0</td>\n",
              "      <td>2.0</td>\n",
              "      <td>5.0</td>\n",
              "      <td>0.36</td>\n",
              "    </tr>\n",
              "    <tr>\n",
              "      <th>2</th>\n",
              "      <td>fffe31003300320037003900</td>\n",
              "      <td>2008-03-10</td>\n",
              "      <td>Female</td>\n",
              "      <td>Product</td>\n",
              "      <td>Yes</td>\n",
              "      <td>2.0</td>\n",
              "      <td>NaN</td>\n",
              "      <td>5.8</td>\n",
              "      <td>0.49</td>\n",
              "    </tr>\n",
              "    <tr>\n",
              "      <th>3</th>\n",
              "      <td>fffe32003400380032003900</td>\n",
              "      <td>2008-11-03</td>\n",
              "      <td>Male</td>\n",
              "      <td>Service</td>\n",
              "      <td>Yes</td>\n",
              "      <td>1.0</td>\n",
              "      <td>1.0</td>\n",
              "      <td>2.6</td>\n",
              "      <td>0.20</td>\n",
              "    </tr>\n",
              "    <tr>\n",
              "      <th>4</th>\n",
              "      <td>fffe31003900340031003600</td>\n",
              "      <td>2008-07-24</td>\n",
              "      <td>Female</td>\n",
              "      <td>Service</td>\n",
              "      <td>No</td>\n",
              "      <td>3.0</td>\n",
              "      <td>7.0</td>\n",
              "      <td>6.9</td>\n",
              "      <td>0.52</td>\n",
              "    </tr>\n",
              "    <tr>\n",
              "      <th>...</th>\n",
              "      <td>...</td>\n",
              "      <td>...</td>\n",
              "      <td>...</td>\n",
              "      <td>...</td>\n",
              "      <td>...</td>\n",
              "      <td>...</td>\n",
              "      <td>...</td>\n",
              "      <td>...</td>\n",
              "      <td>...</td>\n",
              "    </tr>\n",
              "    <tr>\n",
              "      <th>22745</th>\n",
              "      <td>fffe31003500370039003100</td>\n",
              "      <td>2008-12-30</td>\n",
              "      <td>Female</td>\n",
              "      <td>Service</td>\n",
              "      <td>No</td>\n",
              "      <td>1.0</td>\n",
              "      <td>3.0</td>\n",
              "      <td>NaN</td>\n",
              "      <td>0.41</td>\n",
              "    </tr>\n",
              "    <tr>\n",
              "      <th>22746</th>\n",
              "      <td>fffe33003000350031003800</td>\n",
              "      <td>2008-01-19</td>\n",
              "      <td>Female</td>\n",
              "      <td>Product</td>\n",
              "      <td>Yes</td>\n",
              "      <td>3.0</td>\n",
              "      <td>6.0</td>\n",
              "      <td>6.7</td>\n",
              "      <td>0.59</td>\n",
              "    </tr>\n",
              "    <tr>\n",
              "      <th>22747</th>\n",
              "      <td>fffe390032003000</td>\n",
              "      <td>2008-11-05</td>\n",
              "      <td>Male</td>\n",
              "      <td>Service</td>\n",
              "      <td>Yes</td>\n",
              "      <td>3.0</td>\n",
              "      <td>7.0</td>\n",
              "      <td>NaN</td>\n",
              "      <td>0.72</td>\n",
              "    </tr>\n",
              "    <tr>\n",
              "      <th>22748</th>\n",
              "      <td>fffe33003300320036003900</td>\n",
              "      <td>2008-01-10</td>\n",
              "      <td>Female</td>\n",
              "      <td>Service</td>\n",
              "      <td>No</td>\n",
              "      <td>2.0</td>\n",
              "      <td>5.0</td>\n",
              "      <td>5.9</td>\n",
              "      <td>0.52</td>\n",
              "    </tr>\n",
              "    <tr>\n",
              "      <th>22749</th>\n",
              "      <td>fffe3400350031003800</td>\n",
              "      <td>2008-01-06</td>\n",
              "      <td>Male</td>\n",
              "      <td>Product</td>\n",
              "      <td>No</td>\n",
              "      <td>3.0</td>\n",
              "      <td>6.0</td>\n",
              "      <td>7.8</td>\n",
              "      <td>0.61</td>\n",
              "    </tr>\n",
              "  </tbody>\n",
              "</table>\n",
              "<p>22750 rows × 9 columns</p>\n",
              "</div>"
            ],
            "text/plain": [
              "                    Employee ID  ... Burn Rate\n",
              "0      fffe32003000360033003200  ...      0.16\n",
              "1          fffe3700360033003500  ...      0.36\n",
              "2      fffe31003300320037003900  ...      0.49\n",
              "3      fffe32003400380032003900  ...      0.20\n",
              "4      fffe31003900340031003600  ...      0.52\n",
              "...                         ...  ...       ...\n",
              "22745  fffe31003500370039003100  ...      0.41\n",
              "22746  fffe33003000350031003800  ...      0.59\n",
              "22747          fffe390032003000  ...      0.72\n",
              "22748  fffe33003300320036003900  ...      0.52\n",
              "22749      fffe3400350031003800  ...      0.61\n",
              "\n",
              "[22750 rows x 9 columns]"
            ]
          },
          "metadata": {},
          "execution_count": 3
        }
      ]
    },
    {
      "cell_type": "markdown",
      "metadata": {
        "id": "eQLZh-LqIQVn"
      },
      "source": [
        "**Data Description**\n",
        "Employee ID: The unique ID allocated for each employee (example: fffe390032003000)  \n",
        "\n",
        "Date of Joining: The date-time when the employee has joined the organization (example: 2008-12-30)\n",
        "\n",
        "Gender: The gender of the employee (Male/Female)\n",
        "\n",
        "Company Type: The type of company where the employee is working (Service/Product)\n",
        "\n",
        "WFH Setup Available: Is the work from home facility available for the employee (Yes/No)\n",
        "\n",
        "Designation: The designation of the employee of work in the organization.\n",
        "In the range of [0.0, 5.0] bigger is higher designation.\n",
        "\n",
        "Resource Allocation: The amount of resource allocated to the employee to work, ie. number of working hours. In the range of [1.0, 10.0] (higher means more resource)\n",
        "\n",
        "Mental Fatigue Score: The level of fatigue mentally the employee is facing.\n",
        "In the range of [0.0, 10.0] where 0.0 means no fatigue and 10.0 means completely fatigue.\n",
        "\n",
        "Burn Rate: The value we need to predict for each employee telling the rate of Bur out while working. In the range of [0.0, 1.0] where the higher the value is more is the burn out.\n",
        "\n"
      ]
    },
    {
      "cell_type": "code",
      "metadata": {
        "id": "JPvJ2pv6Xwb0",
        "colab": {
          "base_uri": "https://localhost:8080/"
        },
        "outputId": "b37d405d-2716-4f4c-8bb3-2f6465c8bd09"
      },
      "source": [
        "df.info()"
      ],
      "execution_count": 4,
      "outputs": [
        {
          "output_type": "stream",
          "name": "stdout",
          "text": [
            "<class 'pandas.core.frame.DataFrame'>\n",
            "RangeIndex: 22750 entries, 0 to 22749\n",
            "Data columns (total 9 columns):\n",
            " #   Column                Non-Null Count  Dtype  \n",
            "---  ------                --------------  -----  \n",
            " 0   Employee ID           22750 non-null  object \n",
            " 1   Date of Joining       22750 non-null  object \n",
            " 2   Gender                22750 non-null  object \n",
            " 3   Company Type          22750 non-null  object \n",
            " 4   WFH Setup Available   22750 non-null  object \n",
            " 5   Designation           22750 non-null  float64\n",
            " 6   Resource Allocation   21369 non-null  float64\n",
            " 7   Mental Fatigue Score  20633 non-null  float64\n",
            " 8   Burn Rate             21626 non-null  float64\n",
            "dtypes: float64(4), object(5)\n",
            "memory usage: 1.6+ MB\n"
          ]
        }
      ]
    },
    {
      "cell_type": "markdown",
      "metadata": {
        "id": "rASzjKdQI68-"
      },
      "source": [
        "## **Data Preperation & EDA**"
      ]
    },
    {
      "cell_type": "markdown",
      "metadata": {
        "id": "giDhE4AUJsc9"
      },
      "source": [
        "There are 5 categorical features and 4 numerical features. Out of the 5, all the features are useful to use except the employee id as it has nothing to do with the target i.e - Burn Rate. "
      ]
    },
    {
      "cell_type": "markdown",
      "metadata": {
        "id": "RZJwbHT7J_35"
      },
      "source": [
        "Let us first perpare the categorical features in machine interpretable form.\n"
      ]
    },
    {
      "cell_type": "markdown",
      "metadata": {
        "id": "FrTXST-qKINE"
      },
      "source": [
        "**Date of Joining**"
      ]
    },
    {
      "cell_type": "code",
      "metadata": {
        "id": "P44wRuqGI2IK"
      },
      "source": [
        "#Date and month might not be a useful feature. But the year of joining is. It has some significant information that the model can use.\n",
        "df['Year of Joining'] = df['Date of Joining'].apply(lambda x : x.split('-')[0])"
      ],
      "execution_count": 5,
      "outputs": []
    },
    {
      "cell_type": "code",
      "metadata": {
        "colab": {
          "base_uri": "https://localhost:8080/"
        },
        "id": "L4N2RTzZMEWf",
        "outputId": "f15fcdc2-28c4-4c26-cdda-a8306708b89b"
      },
      "source": [
        "df['Year of Joining'].describe()"
      ],
      "execution_count": 6,
      "outputs": [
        {
          "output_type": "execute_result",
          "data": {
            "text/plain": [
              "count     22750\n",
              "unique        1\n",
              "top        2008\n",
              "freq      22750\n",
              "Name: Year of Joining, dtype: object"
            ]
          },
          "metadata": {},
          "execution_count": 6
        }
      ]
    },
    {
      "cell_type": "markdown",
      "metadata": {
        "id": "TiJXtUWIMQYR"
      },
      "source": [
        "Unfortunately the data has only one year value."
      ]
    },
    {
      "cell_type": "code",
      "metadata": {
        "id": "v9lZtj-6hUhH"
      },
      "source": [
        "df.drop('Year of Joining',axis=1,inplace=True)"
      ],
      "execution_count": 7,
      "outputs": []
    },
    {
      "cell_type": "markdown",
      "metadata": {
        "id": "xnapn-V6Mw81"
      },
      "source": [
        "Lets do some EDA on other categorical features."
      ]
    },
    {
      "cell_type": "markdown",
      "metadata": {
        "id": "MC7CTdETU3Lc"
      },
      "source": [
        "# **EDA**"
      ]
    },
    {
      "cell_type": "code",
      "metadata": {
        "colab": {
          "base_uri": "https://localhost:8080/",
          "height": 279
        },
        "id": "rfX2Vp3NOgqX",
        "outputId": "c98819b8-781b-4aaf-9abb-f2be1fca4eaf"
      },
      "source": [
        "sns.boxplot(x = 'Gender', y = 'Burn Rate',data = df);"
      ],
      "execution_count": 8,
      "outputs": [
        {
          "output_type": "display_data",
          "data": {
            "image/png": "[encoded data removed]",
            "text/plain": [
              "<Figure size 432x288 with 1 Axes>"
            ]
          },
          "metadata": {
            "needs_background": "light"
          }
        }
      ]
    },
    {
      "cell_type": "markdown",
      "metadata": {
        "id": "uEyLS7TSOuE-"
      },
      "source": [
        "Burn Rate among the male employees is higher than that in female employees. Lets find the possible reasons by comparing other factors such as designation, working hours etc. among the two genders in the company."
      ]
    },
    {
      "cell_type": "markdown",
      "metadata": {
        "id": "dHMMPMjsR17X"
      },
      "source": [
        "**Note** - The boxplot shows that there are outliers in the burn rate records of female employees. We'll have to take care of it."
      ]
    },
    {
      "cell_type": "code",
      "metadata": {
        "colab": {
          "base_uri": "https://localhost:8080/",
          "height": 279
        },
        "id": "2Vve-cFVQwWC",
        "outputId": "e172883c-ffd4-42d4-efb2-36f8f52c42ea"
      },
      "source": [
        "sns.countplot(x = 'Gender',palette=sns.color_palette(\"hls\"),data = df);"
      ],
      "execution_count": 9,
      "outputs": [
        {
          "output_type": "display_data",
          "data": {
            "image/png": "[encoded data removed]",
            "text/plain": [
              "<Figure size 432x288 with 1 Axes>"
            ]
          },
          "metadata": {
            "needs_background": "light"
          }
        }
      ]
    },
    {
      "cell_type": "markdown",
      "metadata": {
        "id": "kZxS9qcRRgiF"
      },
      "source": [
        "The data has more records of female employees."
      ]
    },
    {
      "cell_type": "code",
      "metadata": {
        "colab": {
          "base_uri": "https://localhost:8080/",
          "height": 279
        },
        "id": "H5QAwdqyPMYE",
        "outputId": "4f418469-fffa-40b0-bcbc-12cc6e522cf0"
      },
      "source": [
        "sns.countplot(x = 'Designation',hue = 'Gender',palette='Blues_d',data = df);"
      ],
      "execution_count": 10,
      "outputs": [
        {
          "output_type": "display_data",
          "data": {
            "image/png": "[encoded data removed]",
            "text/plain": [
              "<Figure size 432x288 with 1 Axes>"
            ]
          },
          "metadata": {
            "needs_background": "light"
          }
        }
      ]
    },
    {
      "cell_type": "markdown",
      "metadata": {
        "id": "rdZN-MpDQH4p"
      },
      "source": [
        "There are more males working at higher desination (>2.0). While there are more feamales at lower designation."
      ]
    },
    {
      "cell_type": "code",
      "metadata": {
        "colab": {
          "base_uri": "https://localhost:8080/",
          "height": 279
        },
        "id": "TxeoKc6eSMp4",
        "outputId": "a95f103c-944b-4113-b62c-3a9bb9a75239"
      },
      "source": [
        "sns.boxplot(x = 'Gender', y = 'Resource Allocation',palette=sns.color_palette(\"Paired\"),data = df);"
      ],
      "execution_count": 11,
      "outputs": [
        {
          "output_type": "display_data",
          "data": {
            "image/png": "[encoded data removed]",
            "text/plain": [
              "<Figure size 432x288 with 1 Axes>"
            ]
          },
          "metadata": {
            "needs_background": "light"
          }
        }
      ]
    },
    {
      "cell_type": "markdown",
      "metadata": {
        "id": "vlSCamdTTxyH"
      },
      "source": [
        "**Note** - Again we observe outliers in the feature - Resource Allocation in the female records."
      ]
    },
    {
      "cell_type": "code",
      "metadata": {
        "colab": {
          "base_uri": "https://localhost:8080/",
          "height": 279
        },
        "id": "TotvChOOUcoI",
        "outputId": "b8410574-93ac-43e1-a68d-a4955dd9cb68"
      },
      "source": [
        "sns.boxplot(x = 'Company Type', y = 'Mental Fatigue Score',palette=sns.color_palette(\"hls\"),data = df);"
      ],
      "execution_count": 12,
      "outputs": [
        {
          "output_type": "display_data",
          "data": {
            "image/png": "[encoded data removed]",
            "text/plain": [
              "<Figure size 432x288 with 1 Axes>"
            ]
          },
          "metadata": {
            "needs_background": "light"
          }
        }
      ]
    },
    {
      "cell_type": "markdown",
      "metadata": {
        "id": "NkrTcUVmVSwm"
      },
      "source": [
        "The fatigue scores remain equal for the two types of comapnies.\n",
        "**Note** - Outliers"
      ]
    },
    {
      "cell_type": "code",
      "metadata": {
        "colab": {
          "base_uri": "https://localhost:8080/",
          "height": 279
        },
        "id": "gI9yU4-3VL9S",
        "outputId": "749fc8b4-957b-46ee-8543-5c77d4d25879"
      },
      "source": [
        "sns.boxplot(x = 'Gender', y = 'Mental Fatigue Score',data = df);"
      ],
      "execution_count": 13,
      "outputs": [
        {
          "output_type": "display_data",
          "data": {
            "image/png": "[encoded data removed]",
            "text/plain": [
              "<Figure size 432x288 with 1 Axes>"
            ]
          },
          "metadata": {
            "needs_background": "light"
          }
        }
      ]
    },
    {
      "cell_type": "code",
      "metadata": {
        "colab": {
          "base_uri": "https://localhost:8080/",
          "height": 279
        },
        "id": "zBUc0xx7XChN",
        "outputId": "9d4b33c6-ebe1-4d53-ea2a-f36746d728a4"
      },
      "source": [
        "sns.scatterplot(x = 'Mental Fatigue Score', y = 'Burn Rate',hue = 'Designation',palette=sns.color_palette(\"rocket\"),data = df);"
      ],
      "execution_count": 14,
      "outputs": [
        {
          "output_type": "display_data",
          "data": {
            "image/png": "[encoded data removed]",
            "text/plain": [
              "<Figure size 432x288 with 1 Axes>"
            ]
          },
          "metadata": {
            "needs_background": "light"
          }
        }
      ]
    },
    {
      "cell_type": "markdown",
      "metadata": {
        "id": "yhkySW2QYLJN"
      },
      "source": [
        "Indicates a very strong linear relationship between the featigue scores and burn rate. "
      ]
    },
    {
      "cell_type": "code",
      "metadata": {
        "colab": {
          "base_uri": "https://localhost:8080/",
          "height": 381
        },
        "id": "A0leQ8V2c-bp",
        "outputId": "4a1e314a-d5f1-49b2-927c-d4a794b09075"
      },
      "source": [
        "sns.heatmap(df.corr(),annot = True)"
      ],
      "execution_count": 15,
      "outputs": [
        {
          "output_type": "execute_result",
          "data": {
            "text/plain": [
              "<matplotlib.axes._subplots.AxesSubplot at 0x7fec460b3590>"
            ]
          },
          "metadata": {},
          "execution_count": 15
        },
        {
          "output_type": "display_data",
          "data": {
            "image/png": "[encoded data removed]",
            "text/plain": [
              "<Figure size 432x288 with 2 Axes>"
            ]
          },
          "metadata": {
            "needs_background": "light"
          }
        }
      ]
    },
    {
      "cell_type": "markdown",
      "metadata": {
        "id": "PCShLXHCdZLk"
      },
      "source": [
        "Apart from Mental Fatigue Score, Burn Rate shows a strong positive linear relationship with Resource Allocation."
      ]
    },
    {
      "cell_type": "markdown",
      "metadata": {
        "id": "82iLzQliftF8"
      },
      "source": [
        "# **Categorical Encoding**"
      ]
    },
    {
      "cell_type": "code",
      "metadata": {
        "id": "Zj990x9FgS8m"
      },
      "source": [
        "df.drop('Employee ID',axis=1,inplace=True)\n"
      ],
      "execution_count": 16,
      "outputs": []
    },
    {
      "cell_type": "markdown",
      "metadata": {
        "id": "ugqJav_Nh8or"
      },
      "source": [
        "We will be using 'Date of Joining' in the feature engineering to create an important feature."
      ]
    },
    {
      "cell_type": "code",
      "metadata": {
        "id": "z8sW_aYdg8Vc"
      },
      "source": [
        "dat = pd.Series(df['Date of Joining'])\n",
        "df.drop('Date of Joining',axis=1,inplace=True)"
      ],
      "execution_count": 17,
      "outputs": []
    },
    {
      "cell_type": "code",
      "metadata": {
        "id": "Va1SXVZ0gjyb"
      },
      "source": [
        "cat = []\n",
        "num = []\n",
        "for feat in df.columns:\n",
        "  if(df[feat].dtype=='object'):\n",
        "    cat.append(feat)\n",
        "  else:\n",
        "    num.append(feat)\n"
      ],
      "execution_count": 18,
      "outputs": []
    },
    {
      "cell_type": "code",
      "metadata": {
        "colab": {
          "base_uri": "https://localhost:8080/"
        },
        "id": "Yr_Eo1ScgzVQ",
        "outputId": "9069f284-eba5-4df1-da45-65de430740cd"
      },
      "source": [
        "cat"
      ],
      "execution_count": 19,
      "outputs": [
        {
          "output_type": "execute_result",
          "data": {
            "text/plain": [
              "['Gender', 'Company Type', 'WFH Setup Available']"
            ]
          },
          "metadata": {},
          "execution_count": 19
        }
      ]
    },
    {
      "cell_type": "code",
      "metadata": {
        "id": "z5o4K504fzTO"
      },
      "source": [
        "encoder = OneHotEncoder(handle_unknown='ignore', sparse=False)\n",
        "dummy_df = pd.DataFrame(encoder.fit_transform((df[cat])))\n",
        "dummy_df.index = df.index\n",
        "dummy_df.columns = encoder.get_feature_names(cat)"
      ],
      "execution_count": 20,
      "outputs": []
    },
    {
      "cell_type": "code",
      "metadata": {
        "id": "E_xlOESRfrJG"
      },
      "source": [
        "df.drop(cat,axis=1,inplace = True)\n",
        "df = pd.concat([df,dummy_df],axis=1)"
      ],
      "execution_count": 21,
      "outputs": []
    },
    {
      "cell_type": "code",
      "metadata": {
        "colab": {
          "base_uri": "https://localhost:8080/",
          "height": 241
        },
        "id": "CrrG81LZjW2t",
        "outputId": "adc5e528-ba9e-4350-bd94-0a6df5636dcc"
      },
      "source": [
        "df.head()"
      ],
      "execution_count": 22,
      "outputs": [
        {
          "output_type": "execute_result",
          "data": {
            "text/html": [
              "<div>\n",
              "<style scoped>\n",
              "    .dataframe tbody tr th:only-of-type {\n",
              "        vertical-align: middle;\n",
              "    }\n",
              "\n",
              "    .dataframe tbody tr th {\n",
              "        vertical-align: top;\n",
              "    }\n",
              "\n",
              "    .dataframe thead th {\n",
              "        text-align: right;\n",
              "    }\n",
              "</style>\n",
              "<table border=\"1\" class=\"dataframe\">\n",
              "  <thead>\n",
              "    <tr style=\"text-align: right;\">\n",
              "      <th></th>\n",
              "      <th>Designation</th>\n",
              "      <th>Resource Allocation</th>\n",
              "      <th>Mental Fatigue Score</th>\n",
              "      <th>Burn Rate</th>\n",
              "      <th>Gender_Female</th>\n",
              "      <th>Gender_Male</th>\n",
              "      <th>Company Type_Product</th>\n",
              "      <th>Company Type_Service</th>\n",
              "      <th>WFH Setup Available_No</th>\n",
              "      <th>WFH Setup Available_Yes</th>\n",
              "    </tr>\n",
              "  </thead>\n",
              "  <tbody>\n",
              "    <tr>\n",
              "      <th>0</th>\n",
              "      <td>2.0</td>\n",
              "      <td>3.0</td>\n",
              "      <td>3.8</td>\n",
              "      <td>0.16</td>\n",
              "      <td>1.0</td>\n",
              "      <td>0.0</td>\n",
              "      <td>0.0</td>\n",
              "      <td>1.0</td>\n",
              "      <td>1.0</td>\n",
              "      <td>0.0</td>\n",
              "    </tr>\n",
              "    <tr>\n",
              "      <th>1</th>\n",
              "      <td>1.0</td>\n",
              "      <td>2.0</td>\n",
              "      <td>5.0</td>\n",
              "      <td>0.36</td>\n",
              "      <td>0.0</td>\n",
              "      <td>1.0</td>\n",
              "      <td>0.0</td>\n",
              "      <td>1.0</td>\n",
              "      <td>0.0</td>\n",
              "      <td>1.0</td>\n",
              "    </tr>\n",
              "    <tr>\n",
              "      <th>2</th>\n",
              "      <td>2.0</td>\n",
              "      <td>NaN</td>\n",
              "      <td>5.8</td>\n",
              "      <td>0.49</td>\n",
              "      <td>1.0</td>\n",
              "      <td>0.0</td>\n",
              "      <td>1.0</td>\n",
              "      <td>0.0</td>\n",
              "      <td>0.0</td>\n",
              "      <td>1.0</td>\n",
              "    </tr>\n",
              "    <tr>\n",
              "      <th>3</th>\n",
              "      <td>1.0</td>\n",
              "      <td>1.0</td>\n",
              "      <td>2.6</td>\n",
              "      <td>0.20</td>\n",
              "      <td>0.0</td>\n",
              "      <td>1.0</td>\n",
              "      <td>0.0</td>\n",
              "      <td>1.0</td>\n",
              "      <td>0.0</td>\n",
              "      <td>1.0</td>\n",
              "    </tr>\n",
              "    <tr>\n",
              "      <th>4</th>\n",
              "      <td>3.0</td>\n",
              "      <td>7.0</td>\n",
              "      <td>6.9</td>\n",
              "      <td>0.52</td>\n",
              "      <td>1.0</td>\n",
              "      <td>0.0</td>\n",
              "      <td>0.0</td>\n",
              "      <td>1.0</td>\n",
              "      <td>1.0</td>\n",
              "      <td>0.0</td>\n",
              "    </tr>\n",
              "  </tbody>\n",
              "</table>\n",
              "</div>"
            ],
            "text/plain": [
              "   Designation  ...  WFH Setup Available_Yes\n",
              "0          2.0  ...                      0.0\n",
              "1          1.0  ...                      1.0\n",
              "2          2.0  ...                      1.0\n",
              "3          1.0  ...                      1.0\n",
              "4          3.0  ...                      0.0\n",
              "\n",
              "[5 rows x 10 columns]"
            ]
          },
          "metadata": {},
          "execution_count": 22
        }
      ]
    },
    {
      "cell_type": "code",
      "metadata": {
        "id": "dv7F0_F_jk5p"
      },
      "source": [
        "#drop Gender Male and WFH Setup Available_No as their information is already there in their other feature.\n",
        "df.drop(['WFH Setup Available_No','Gender_Male','Company Type_Product'],axis=1,inplace=True)"
      ],
      "execution_count": 23,
      "outputs": []
    },
    {
      "cell_type": "markdown",
      "metadata": {
        "id": "l2fs94AAkCPU"
      },
      "source": [
        "**Null Value Imputation**"
      ]
    },
    {
      "cell_type": "code",
      "metadata": {
        "colab": {
          "base_uri": "https://localhost:8080/"
        },
        "id": "EiuLwE_okfNq",
        "outputId": "76bf2d07-db6c-479e-8094-8162ac2f062b"
      },
      "source": [
        "df.isnull().sum()"
      ],
      "execution_count": 24,
      "outputs": [
        {
          "output_type": "execute_result",
          "data": {
            "text/plain": [
              "Designation                   0\n",
              "Resource Allocation        1381\n",
              "Mental Fatigue Score       2117\n",
              "Burn Rate                  1124\n",
              "Gender_Female                 0\n",
              "Company Type_Service          0\n",
              "WFH Setup Available_Yes       0\n",
              "dtype: int64"
            ]
          },
          "metadata": {},
          "execution_count": 24
        }
      ]
    },
    {
      "cell_type": "markdown",
      "metadata": {
        "id": "ngmTL9p0PfB-"
      },
      "source": [
        "The null values in all the columns are missing at random. Probably the employees didn't want to share/ hesitated to share the information like stress score, burn rate and the working hours."
      ]
    },
    {
      "cell_type": "markdown",
      "metadata": {
        "id": "2VevAafUkWEY"
      },
      "source": [
        "There are missing values in Burn Rate and mental fatigue scores. Lets visualize their distribution."
      ]
    },
    {
      "cell_type": "code",
      "metadata": {
        "colab": {
          "base_uri": "https://localhost:8080/",
          "height": 403
        },
        "id": "XED4kWOlkAAP",
        "outputId": "bf276ff6-f9a6-461c-ba63-5dba58d738a9"
      },
      "source": [
        "sns.heatmap(df.isnull())"
      ],
      "execution_count": 25,
      "outputs": [
        {
          "output_type": "execute_result",
          "data": {
            "text/plain": [
              "<matplotlib.axes._subplots.AxesSubplot at 0x7fec2460a810>"
            ]
          },
          "metadata": {},
          "execution_count": 25
        },
        {
          "output_type": "display_data",
          "data": {
            "image/png": "[encoded data removed]",
            "text/plain": [
              "<Figure size 432x288 with 2 Axes>"
            ]
          },
          "metadata": {
            "needs_background": "light"
          }
        }
      ]
    },
    {
      "cell_type": "code",
      "metadata": {
        "colab": {
          "base_uri": "https://localhost:8080/"
        },
        "id": "mF7BHNrKlupZ",
        "outputId": "459cc936-2236-4d7c-8db9-f5c922ee63f5"
      },
      "source": [
        "df[df['Burn Rate'].isnull()]['Mental Fatigue Score'].isnull().sum()"
      ],
      "execution_count": 26,
      "outputs": [
        {
          "output_type": "execute_result",
          "data": {
            "text/plain": [
              "172"
            ]
          },
          "metadata": {},
          "execution_count": 26
        }
      ]
    },
    {
      "cell_type": "markdown",
      "metadata": {
        "id": "nzXg-ldElo5a"
      },
      "source": [
        "We observe that the null values in the two features donot occour simultaneously for a given sample. So we impute the missing value of target with mental fatigue score and vice versa due to their strong collinearity. We will use median/mean imputation for rest of the null values (Where null values occour simultaneously)."
      ]
    },
    {
      "cell_type": "markdown",
      "metadata": {
        "id": "8lO7Zp44m4kx"
      },
      "source": [
        "**Lets use linear regression for this task.**"
      ]
    },
    {
      "cell_type": "code",
      "metadata": {
        "id": "--xDSzyY_Fk7"
      },
      "source": [
        "x1 = pd.DataFrame(df[df['Burn Rate'].isnull()]['Mental Fatigue Score'])"
      ],
      "execution_count": 27,
      "outputs": []
    },
    {
      "cell_type": "code",
      "metadata": {
        "id": "gvyPrS7gCAZs"
      },
      "source": [
        "x1['Mental Fatigue Score'].fillna(x1['Mental Fatigue Score'].median(),inplace=True)"
      ],
      "execution_count": 28,
      "outputs": []
    },
    {
      "cell_type": "code",
      "metadata": {
        "colab": {
          "base_uri": "https://localhost:8080/"
        },
        "id": "8QZdn8TAFsGU",
        "outputId": "4f895dff-6dba-4cc2-96c0-173d4193e10f"
      },
      "source": [
        "df_new = df[['Mental Fatigue Score','Burn Rate']]\n",
        "df_new.dropna(inplace=True)"
      ],
      "execution_count": 29,
      "outputs": [
        {
          "output_type": "stream",
          "name": "stderr",
          "text": [
            "/usr/local/lib/python3.7/dist-packages/ipykernel_launcher.py:2: SettingWithCopyWarning: \n",
            "A value is trying to be set on a copy of a slice from a DataFrame\n",
            "\n",
            "See the caveats in the documentation: https://pandas.pydata.org/pandas-docs/stable/user_guide/indexing.html#returning-a-view-versus-a-copy\n",
            "  \n"
          ]
        }
      ]
    },
    {
      "cell_type": "code",
      "metadata": {
        "colab": {
          "base_uri": "https://localhost:8080/",
          "height": 423
        },
        "id": "SceHNRibGC1X",
        "outputId": "794ecb7b-a403-42bf-ce4b-86e9b1bf547b"
      },
      "source": [
        "df_new"
      ],
      "execution_count": 30,
      "outputs": [
        {
          "output_type": "execute_result",
          "data": {
            "text/html": [
              "<div>\n",
              "<style scoped>\n",
              "    .dataframe tbody tr th:only-of-type {\n",
              "        vertical-align: middle;\n",
              "    }\n",
              "\n",
              "    .dataframe tbody tr th {\n",
              "        vertical-align: top;\n",
              "    }\n",
              "\n",
              "    .dataframe thead th {\n",
              "        text-align: right;\n",
              "    }\n",
              "</style>\n",
              "<table border=\"1\" class=\"dataframe\">\n",
              "  <thead>\n",
              "    <tr style=\"text-align: right;\">\n",
              "      <th></th>\n",
              "      <th>Mental Fatigue Score</th>\n",
              "      <th>Burn Rate</th>\n",
              "    </tr>\n",
              "  </thead>\n",
              "  <tbody>\n",
              "    <tr>\n",
              "      <th>0</th>\n",
              "      <td>3.8</td>\n",
              "      <td>0.16</td>\n",
              "    </tr>\n",
              "    <tr>\n",
              "      <th>1</th>\n",
              "      <td>5.0</td>\n",
              "      <td>0.36</td>\n",
              "    </tr>\n",
              "    <tr>\n",
              "      <th>2</th>\n",
              "      <td>5.8</td>\n",
              "      <td>0.49</td>\n",
              "    </tr>\n",
              "    <tr>\n",
              "      <th>3</th>\n",
              "      <td>2.6</td>\n",
              "      <td>0.20</td>\n",
              "    </tr>\n",
              "    <tr>\n",
              "      <th>4</th>\n",
              "      <td>6.9</td>\n",
              "      <td>0.52</td>\n",
              "    </tr>\n",
              "    <tr>\n",
              "      <th>...</th>\n",
              "      <td>...</td>\n",
              "      <td>...</td>\n",
              "    </tr>\n",
              "    <tr>\n",
              "      <th>22743</th>\n",
              "      <td>6.0</td>\n",
              "      <td>0.48</td>\n",
              "    </tr>\n",
              "    <tr>\n",
              "      <th>22744</th>\n",
              "      <td>6.2</td>\n",
              "      <td>0.54</td>\n",
              "    </tr>\n",
              "    <tr>\n",
              "      <th>22746</th>\n",
              "      <td>6.7</td>\n",
              "      <td>0.59</td>\n",
              "    </tr>\n",
              "    <tr>\n",
              "      <th>22748</th>\n",
              "      <td>5.9</td>\n",
              "      <td>0.52</td>\n",
              "    </tr>\n",
              "    <tr>\n",
              "      <th>22749</th>\n",
              "      <td>7.8</td>\n",
              "      <td>0.61</td>\n",
              "    </tr>\n",
              "  </tbody>\n",
              "</table>\n",
              "<p>19681 rows × 2 columns</p>\n",
              "</div>"
            ],
            "text/plain": [
              "       Mental Fatigue Score  Burn Rate\n",
              "0                       3.8       0.16\n",
              "1                       5.0       0.36\n",
              "2                       5.8       0.49\n",
              "3                       2.6       0.20\n",
              "4                       6.9       0.52\n",
              "...                     ...        ...\n",
              "22743                   6.0       0.48\n",
              "22744                   6.2       0.54\n",
              "22746                   6.7       0.59\n",
              "22748                   5.9       0.52\n",
              "22749                   7.8       0.61\n",
              "\n",
              "[19681 rows x 2 columns]"
            ]
          },
          "metadata": {},
          "execution_count": 30
        }
      ]
    },
    {
      "cell_type": "code",
      "metadata": {
        "colab": {
          "base_uri": "https://localhost:8080/"
        },
        "id": "qiixDf25F62a",
        "outputId": "56800598-900b-44b6-8df6-c244dfd1aed7"
      },
      "source": [
        "df_new.isnull().sum()"
      ],
      "execution_count": 31,
      "outputs": [
        {
          "output_type": "execute_result",
          "data": {
            "text/plain": [
              "Mental Fatigue Score    0\n",
              "Burn Rate               0\n",
              "dtype: int64"
            ]
          },
          "metadata": {},
          "execution_count": 31
        }
      ]
    },
    {
      "cell_type": "code",
      "metadata": {
        "colab": {
          "base_uri": "https://localhost:8080/"
        },
        "id": "AGXJVHZJGUrF",
        "outputId": "ea579629-b9a7-47ab-cd8a-faad07f4dbd0"
      },
      "source": [
        "X = df_new[['Mental Fatigue Score']] # X.shape should be (N, M) where M >= 1\n",
        "y = df_new['Burn Rate']\n",
        "model = LinearRegression()\n",
        "model.fit(X,y)"
      ],
      "execution_count": 32,
      "outputs": [
        {
          "output_type": "execute_result",
          "data": {
            "text/plain": [
              "LinearRegression(copy_X=True, fit_intercept=True, n_jobs=None, normalize=False)"
            ]
          },
          "metadata": {},
          "execution_count": 32
        }
      ]
    },
    {
      "cell_type": "code",
      "metadata": {
        "colab": {
          "base_uri": "https://localhost:8080/"
        },
        "id": "ccZdx0xlHMum",
        "outputId": "1e790b20-8912-45be-eb2e-eb6e1d440e38"
      },
      "source": [
        "print(\"Regression Intercept: \",model.intercept_)\n",
        "print(\"Regression Coefficient: \",model.coef_)"
      ],
      "execution_count": 33,
      "outputs": [
        {
          "output_type": "stream",
          "name": "stdout",
          "text": [
            "Regression Intercept:  -0.10541529584191184\n",
            "Regression Coefficient:  [0.0972793]\n"
          ]
        }
      ]
    },
    {
      "cell_type": "code",
      "metadata": {
        "id": "8njCPyd6HnTK"
      },
      "source": [
        "pred = model.predict(x1) #the values to be filled in nan values of burn rate"
      ],
      "execution_count": 34,
      "outputs": []
    },
    {
      "cell_type": "code",
      "metadata": {
        "id": "0U9DdZKzICXi"
      },
      "source": [
        "ind = df[df['Burn Rate'].isnull()].index\n",
        "for j,i in enumerate(ind):\n",
        "  df['Burn Rate'].iloc[i] = pred[j]"
      ],
      "execution_count": 35,
      "outputs": []
    },
    {
      "cell_type": "code",
      "metadata": {
        "colab": {
          "base_uri": "https://localhost:8080/"
        },
        "id": "1ryS90l0M80Q",
        "outputId": "2c59c26a-00f7-41f0-9d11-c88cf9b035d2"
      },
      "source": [
        "X = df_new[['Burn Rate']] # X.shape should be (N, M) where M >= 1\n",
        "y = df_new['Mental Fatigue Score']\n",
        "model = LinearRegression()\n",
        "model.fit(X,y)"
      ],
      "execution_count": 36,
      "outputs": [
        {
          "output_type": "execute_result",
          "data": {
            "text/plain": [
              "LinearRegression(copy_X=True, fit_intercept=True, n_jobs=None, normalize=False)"
            ]
          },
          "metadata": {},
          "execution_count": 36
        }
      ]
    },
    {
      "cell_type": "code",
      "metadata": {
        "colab": {
          "base_uri": "https://localhost:8080/"
        },
        "id": "wH3zO5a7N0dB",
        "outputId": "b79d83ae-8bff-4a88-fe97-3776a78a1b26"
      },
      "source": [
        "x2 = pd.DataFrame(df[df['Mental Fatigue Score'].isnull()]['Burn Rate'])\n",
        "x2.isnull().sum()"
      ],
      "execution_count": 37,
      "outputs": [
        {
          "output_type": "execute_result",
          "data": {
            "text/plain": [
              "Burn Rate    0\n",
              "dtype: int64"
            ]
          },
          "metadata": {},
          "execution_count": 37
        }
      ]
    },
    {
      "cell_type": "code",
      "metadata": {
        "id": "_quFXCGJOYEb"
      },
      "source": [
        "pred = model.predict(x2)\n",
        "ind = df[df['Mental Fatigue Score'].isnull()].index\n",
        "for j,i in enumerate(ind):\n",
        "  df['Mental Fatigue Score'].iloc[i] = pred[j]"
      ],
      "execution_count": 38,
      "outputs": []
    },
    {
      "cell_type": "code",
      "metadata": {
        "colab": {
          "base_uri": "https://localhost:8080/",
          "height": 403
        },
        "id": "Xpnk5MouOozp",
        "outputId": "072fb3a4-c560-42e8-899b-902729112a65"
      },
      "source": [
        "sns.heatmap(df.isnull())"
      ],
      "execution_count": 39,
      "outputs": [
        {
          "output_type": "execute_result",
          "data": {
            "text/plain": [
              "<matplotlib.axes._subplots.AxesSubplot at 0x7fec24794a50>"
            ]
          },
          "metadata": {},
          "execution_count": 39
        },
        {
          "output_type": "display_data",
          "data": {
            "image/png": "[encoded data removed]",
            "text/plain": [
              "<Figure size 432x288 with 2 Axes>"
            ]
          },
          "metadata": {
            "needs_background": "light"
          }
        }
      ]
    },
    {
      "cell_type": "code",
      "metadata": {
        "id": "K0AEKL6FMHOk"
      },
      "source": [
        "x3 = pd.DataFrame(df[df['Mental Fatigue Score'].isnull()]['Mental Fatigue Score'])"
      ],
      "execution_count": 40,
      "outputs": []
    },
    {
      "cell_type": "code",
      "metadata": {
        "colab": {
          "base_uri": "https://localhost:8080/"
        },
        "id": "TL3jMnQdO5nj",
        "outputId": "80eb8658-0c13-4817-80c8-c6dcc76337a2"
      },
      "source": [
        "#Lets again use Linear Regression to fill the null values of Resource Allocation. We use the variable with highest correlation with resource reallocation\n",
        "df_new = df[['Designation','Resource Allocation']]\n",
        "df_new.dropna(inplace=True)"
      ],
      "execution_count": 41,
      "outputs": [
        {
          "output_type": "stream",
          "name": "stderr",
          "text": [
            "/usr/local/lib/python3.7/dist-packages/ipykernel_launcher.py:3: SettingWithCopyWarning: \n",
            "A value is trying to be set on a copy of a slice from a DataFrame\n",
            "\n",
            "See the caveats in the documentation: https://pandas.pydata.org/pandas-docs/stable/user_guide/indexing.html#returning-a-view-versus-a-copy\n",
            "  This is separate from the ipykernel package so we can avoid doing imports until\n"
          ]
        }
      ]
    },
    {
      "cell_type": "code",
      "metadata": {
        "colab": {
          "base_uri": "https://localhost:8080/"
        },
        "id": "vwoz5sq2RHxI",
        "outputId": "c814adf2-e719-4c8c-dd43-542459c418f1"
      },
      "source": [
        "X = df_new[['Designation']]\n",
        "y = df_new['Resource Allocation']\n",
        "model = LinearRegression()\n",
        "model.fit(X,y)"
      ],
      "execution_count": 42,
      "outputs": [
        {
          "output_type": "execute_result",
          "data": {
            "text/plain": [
              "LinearRegression(copy_X=True, fit_intercept=True, n_jobs=None, normalize=False)"
            ]
          },
          "metadata": {},
          "execution_count": 42
        }
      ]
    },
    {
      "cell_type": "code",
      "metadata": {
        "id": "CWUeH6CiSB16"
      },
      "source": [
        "des = pd.DataFrame(df[df['Resource Allocation'].isnull()]['Designation'])\n",
        "pred2 = model.predict(des)\n",
        "ind = df[df['Resource Allocation'].isnull()].index\n",
        "for j,i in enumerate(ind):\n",
        "  df['Resource Allocation'].iloc[i] = pred2[j]"
      ],
      "execution_count": 43,
      "outputs": []
    },
    {
      "cell_type": "code",
      "metadata": {
        "colab": {
          "base_uri": "https://localhost:8080/"
        },
        "id": "QNI7yQsfS7Oz",
        "outputId": "d9eeb969-b0b5-4cce-a6d1-459c6b705ce9"
      },
      "source": [
        "df.isnull().sum()"
      ],
      "execution_count": 44,
      "outputs": [
        {
          "output_type": "execute_result",
          "data": {
            "text/plain": [
              "Designation                0\n",
              "Resource Allocation        0\n",
              "Mental Fatigue Score       0\n",
              "Burn Rate                  0\n",
              "Gender_Female              0\n",
              "Company Type_Service       0\n",
              "WFH Setup Available_Yes    0\n",
              "dtype: int64"
            ]
          },
          "metadata": {},
          "execution_count": 44
        }
      ]
    },
    {
      "cell_type": "markdown",
      "metadata": {
        "id": "dSGiPL2VS-nL"
      },
      "source": [
        "The null values have been removed. So the EDA and Data Preperation part has been done. Lets move to Feature Engineering process."
      ]
    },
    {
      "cell_type": "markdown",
      "metadata": {
        "id": "Y-YI0JHzTU4u"
      },
      "source": [
        "# **Feature Engineering**"
      ]
    },
    {
      "cell_type": "code",
      "metadata": {
        "id": "d1Nud1Xk2zcV"
      },
      "source": [
        "present = date.today()"
      ],
      "execution_count": 45,
      "outputs": []
    },
    {
      "cell_type": "code",
      "metadata": {
        "colab": {
          "base_uri": "https://localhost:8080/",
          "height": 423
        },
        "id": "nyrlSO-O2_U9",
        "outputId": "3180884e-f058-409d-fb14-1721a4649b27"
      },
      "source": [
        "date_df = pd.DataFrame(dat) \n",
        "date_df"
      ],
      "execution_count": 46,
      "outputs": [
        {
          "output_type": "execute_result",
          "data": {
            "text/html": [
              "<div>\n",
              "<style scoped>\n",
              "    .dataframe tbody tr th:only-of-type {\n",
              "        vertical-align: middle;\n",
              "    }\n",
              "\n",
              "    .dataframe tbody tr th {\n",
              "        vertical-align: top;\n",
              "    }\n",
              "\n",
              "    .dataframe thead th {\n",
              "        text-align: right;\n",
              "    }\n",
              "</style>\n",
              "<table border=\"1\" class=\"dataframe\">\n",
              "  <thead>\n",
              "    <tr style=\"text-align: right;\">\n",
              "      <th></th>\n",
              "      <th>Date of Joining</th>\n",
              "    </tr>\n",
              "  </thead>\n",
              "  <tbody>\n",
              "    <tr>\n",
              "      <th>0</th>\n",
              "      <td>2008-09-30</td>\n",
              "    </tr>\n",
              "    <tr>\n",
              "      <th>1</th>\n",
              "      <td>2008-11-30</td>\n",
              "    </tr>\n",
              "    <tr>\n",
              "      <th>2</th>\n",
              "      <td>2008-03-10</td>\n",
              "    </tr>\n",
              "    <tr>\n",
              "      <th>3</th>\n",
              "      <td>2008-11-03</td>\n",
              "    </tr>\n",
              "    <tr>\n",
              "      <th>4</th>\n",
              "      <td>2008-07-24</td>\n",
              "    </tr>\n",
              "    <tr>\n",
              "      <th>...</th>\n",
              "      <td>...</td>\n",
              "    </tr>\n",
              "    <tr>\n",
              "      <th>22745</th>\n",
              "      <td>2008-12-30</td>\n",
              "    </tr>\n",
              "    <tr>\n",
              "      <th>22746</th>\n",
              "      <td>2008-01-19</td>\n",
              "    </tr>\n",
              "    <tr>\n",
              "      <th>22747</th>\n",
              "      <td>2008-11-05</td>\n",
              "    </tr>\n",
              "    <tr>\n",
              "      <th>22748</th>\n",
              "      <td>2008-01-10</td>\n",
              "    </tr>\n",
              "    <tr>\n",
              "      <th>22749</th>\n",
              "      <td>2008-01-06</td>\n",
              "    </tr>\n",
              "  </tbody>\n",
              "</table>\n",
              "<p>22750 rows × 1 columns</p>\n",
              "</div>"
            ],
            "text/plain": [
              "      Date of Joining\n",
              "0          2008-09-30\n",
              "1          2008-11-30\n",
              "2          2008-03-10\n",
              "3          2008-11-03\n",
              "4          2008-07-24\n",
              "...               ...\n",
              "22745      2008-12-30\n",
              "22746      2008-01-19\n",
              "22747      2008-11-05\n",
              "22748      2008-01-10\n",
              "22749      2008-01-06\n",
              "\n",
              "[22750 rows x 1 columns]"
            ]
          },
          "metadata": {},
          "execution_count": 46
        }
      ]
    },
    {
      "cell_type": "code",
      "metadata": {
        "id": "ik4AJsJn3L4d"
      },
      "source": [
        "date_df['Date of Joining'] = date_df['Date of Joining'].apply(lambda x : datetime.strptime(x,\"%Y-%m-%d\").date())"
      ],
      "execution_count": 47,
      "outputs": []
    },
    {
      "cell_type": "code",
      "metadata": {
        "id": "QIt2shIl2cf6"
      },
      "source": [
        "df['Days Spent'] = present - date_df['Date of Joining'] #Get the total number of days spent in the company"
      ],
      "execution_count": 48,
      "outputs": []
    },
    {
      "cell_type": "code",
      "metadata": {
        "id": "QiBBZONZ41ST"
      },
      "source": [
        "df['Days Spent'] = df['Days Spent'].apply(lambda x : int(str(x).split(\" \")[0]))"
      ],
      "execution_count": 49,
      "outputs": []
    },
    {
      "cell_type": "code",
      "metadata": {
        "colab": {
          "base_uri": "https://localhost:8080/"
        },
        "id": "xQr2ukzC5mD3",
        "outputId": "cebfee96-234a-4fd8-ba01-df2bb1230176"
      },
      "source": [
        "df['Days Spent']"
      ],
      "execution_count": 50,
      "outputs": [
        {
          "output_type": "execute_result",
          "data": {
            "text/plain": [
              "0        4740\n",
              "1        4679\n",
              "2        4944\n",
              "3        4706\n",
              "4        4808\n",
              "         ... \n",
              "22745    4649\n",
              "22746    4995\n",
              "22747    4704\n",
              "22748    5004\n",
              "22749    5008\n",
              "Name: Days Spent, Length: 22750, dtype: int64"
            ]
          },
          "metadata": {},
          "execution_count": 50
        }
      ]
    },
    {
      "cell_type": "code",
      "metadata": {
        "colab": {
          "base_uri": "https://localhost:8080/",
          "height": 279
        },
        "id": "b9ml0ci8oHAh",
        "outputId": "d9a26d69-24b1-4fc1-cd6c-8e3677509134"
      },
      "source": [
        "sns.scatterplot(x = df['Days Spent'],y = df['Burn Rate']);"
      ],
      "execution_count": 51,
      "outputs": [
        {
          "output_type": "display_data",
          "data": {
            "image/png": "[encoded data removed]",
            "text/plain": [
              "<Figure size 432x288 with 1 Axes>"
            ]
          },
          "metadata": {
            "needs_background": "light"
          }
        }
      ]
    },
    {
      "cell_type": "code",
      "metadata": {
        "id": "L_ZcV5v_pL_W"
      },
      "source": [
        "df.drop('Days Spent',axis=1,inplace=True)"
      ],
      "execution_count": 52,
      "outputs": []
    },
    {
      "cell_type": "markdown",
      "metadata": {
        "id": "JbLg6z2qoW1t"
      },
      "source": [
        "However the scatterplot shows that there are no trends in the data of Burn Rate vs Time Spent. So we drop the feature Time Spent as it has no importance in the data."
      ]
    },
    {
      "cell_type": "markdown",
      "metadata": {
        "id": "nDYpqwDyoVRH"
      },
      "source": [
        ""
      ]
    },
    {
      "cell_type": "markdown",
      "metadata": {
        "id": "sSSwTXs_iU-B"
      },
      "source": [
        "Earlierly we had observed there were outliers in few features. Lets try to remove the skewness caused.\n"
      ]
    },
    {
      "cell_type": "markdown",
      "metadata": {
        "id": "7VgJaglugEU-"
      },
      "source": [
        "Lets remove skewness from the data."
      ]
    },
    {
      "cell_type": "code",
      "metadata": {
        "id": "YpVsUmdmf-bq"
      },
      "source": [
        "for feat in num:\n",
        "    if((np.abs(df[feat].skew())>0.5)):\n",
        "        print(feat)\n",
        "        df[feat] =np.log1p(df[feat])[0]"
      ],
      "execution_count": 53,
      "outputs": []
    },
    {
      "cell_type": "markdown",
      "metadata": {
        "id": "8E-rkmdZhhlE"
      },
      "source": [
        "The |8skewness| >0.5 is significant. However there are no such variable which is skewed."
      ]
    },
    {
      "cell_type": "code",
      "metadata": {
        "colab": {
          "base_uri": "https://localhost:8080/"
        },
        "id": "rK10bLIsf-e6",
        "outputId": "a48fec79-816f-4020-c84f-bc363519aa2e"
      },
      "source": [
        "df['Mental Fatigue Score'].skew()"
      ],
      "execution_count": 54,
      "outputs": [
        {
          "output_type": "execute_result",
          "data": {
            "text/plain": [
              "-0.3974962667775253"
            ]
          },
          "metadata": {},
          "execution_count": 54
        }
      ]
    },
    {
      "cell_type": "code",
      "metadata": {
        "colab": {
          "base_uri": "https://localhost:8080/"
        },
        "id": "a70WcznQTaRS",
        "outputId": "c37666b4-9405-4d0e-d016-4c99b747f550"
      },
      "source": [
        "df.columns"
      ],
      "execution_count": 55,
      "outputs": [
        {
          "output_type": "execute_result",
          "data": {
            "text/plain": [
              "Index(['Designation', 'Resource Allocation', 'Mental Fatigue Score',\n",
              "       'Burn Rate', 'Gender_Female', 'Company Type_Service',\n",
              "       'WFH Setup Available_Yes'],\n",
              "      dtype='object')"
            ]
          },
          "metadata": {},
          "execution_count": 55
        }
      ]
    },
    {
      "cell_type": "code",
      "metadata": {
        "id": "oK_L400poEme"
      },
      "source": [
        ""
      ],
      "execution_count": 55,
      "outputs": []
    },
    {
      "cell_type": "markdown",
      "metadata": {
        "id": "tryWgMQrjtP2"
      },
      "source": [
        "No new features can be created.\n"
      ]
    },
    {
      "cell_type": "code",
      "metadata": {
        "colab": {
          "base_uri": "https://localhost:8080/"
        },
        "id": "mfOgm_WXbtWz",
        "outputId": "1049b528-1e9d-4efd-b3dd-433b23b768d8"
      },
      "source": [
        "l = [1,2,3,5,7]\n",
        "arr = np.array(l)\n",
        "arr.shape"
      ],
      "execution_count": 56,
      "outputs": [
        {
          "output_type": "execute_result",
          "data": {
            "text/plain": [
              "(5,)"
            ]
          },
          "metadata": {},
          "execution_count": 56
        }
      ]
    },
    {
      "cell_type": "code",
      "metadata": {
        "id": "IecWA0yAcfMu"
      },
      "source": [
        "arr = arr.reshape(-1,1)"
      ],
      "execution_count": 57,
      "outputs": []
    },
    {
      "cell_type": "code",
      "metadata": {
        "colab": {
          "base_uri": "https://localhost:8080/"
        },
        "id": "Yhxdut7dcv7f",
        "outputId": "7767889e-78a3-4e7c-df92-07b343f3d9a8"
      },
      "source": [
        "arr.shape"
      ],
      "execution_count": 58,
      "outputs": [
        {
          "output_type": "execute_result",
          "data": {
            "text/plain": [
              "(5, 1)"
            ]
          },
          "metadata": {},
          "execution_count": 58
        }
      ]
    },
    {
      "cell_type": "code",
      "metadata": {
        "colab": {
          "base_uri": "https://localhost:8080/",
          "height": 300
        },
        "id": "5AhBGL-9cCU-",
        "outputId": "abc53d7d-15c3-46f2-a519-705e3e1e0c52"
      },
      "source": [
        "df.describe()"
      ],
      "execution_count": 59,
      "outputs": [
        {
          "output_type": "execute_result",
          "data": {
            "text/html": [
              "<div>\n",
              "<style scoped>\n",
              "    .dataframe tbody tr th:only-of-type {\n",
              "        vertical-align: middle;\n",
              "    }\n",
              "\n",
              "    .dataframe tbody tr th {\n",
              "        vertical-align: top;\n",
              "    }\n",
              "\n",
              "    .dataframe thead th {\n",
              "        text-align: right;\n",
              "    }\n",
              "</style>\n",
              "<table border=\"1\" class=\"dataframe\">\n",
              "  <thead>\n",
              "    <tr style=\"text-align: right;\">\n",
              "      <th></th>\n",
              "      <th>Designation</th>\n",
              "      <th>Resource Allocation</th>\n",
              "      <th>Mental Fatigue Score</th>\n",
              "      <th>Burn Rate</th>\n",
              "      <th>Gender_Female</th>\n",
              "      <th>Company Type_Service</th>\n",
              "      <th>WFH Setup Available_Yes</th>\n",
              "    </tr>\n",
              "  </thead>\n",
              "  <tbody>\n",
              "    <tr>\n",
              "      <th>count</th>\n",
              "      <td>22750.000000</td>\n",
              "      <td>22750.000000</td>\n",
              "      <td>22750.000000</td>\n",
              "      <td>22750.000000</td>\n",
              "      <td>22750.000000</td>\n",
              "      <td>22750.000000</td>\n",
              "      <td>22750.000000</td>\n",
              "    </tr>\n",
              "    <tr>\n",
              "      <th>mean</th>\n",
              "      <td>2.178725</td>\n",
              "      <td>4.481115</td>\n",
              "      <td>5.729033</td>\n",
              "      <td>0.451909</td>\n",
              "      <td>0.523429</td>\n",
              "      <td>0.652000</td>\n",
              "      <td>0.540220</td>\n",
              "    </tr>\n",
              "    <tr>\n",
              "      <th>std</th>\n",
              "      <td>1.135145</td>\n",
              "      <td>2.031727</td>\n",
              "      <td>1.908012</td>\n",
              "      <td>0.197016</td>\n",
              "      <td>0.499462</td>\n",
              "      <td>0.476346</td>\n",
              "      <td>0.498391</td>\n",
              "    </tr>\n",
              "    <tr>\n",
              "      <th>min</th>\n",
              "      <td>0.000000</td>\n",
              "      <td>1.000000</td>\n",
              "      <td>0.000000</td>\n",
              "      <td>-0.105415</td>\n",
              "      <td>0.000000</td>\n",
              "      <td>0.000000</td>\n",
              "      <td>0.000000</td>\n",
              "    </tr>\n",
              "    <tr>\n",
              "      <th>25%</th>\n",
              "      <td>1.000000</td>\n",
              "      <td>3.000000</td>\n",
              "      <td>4.600000</td>\n",
              "      <td>0.320000</td>\n",
              "      <td>0.000000</td>\n",
              "      <td>0.000000</td>\n",
              "      <td>0.000000</td>\n",
              "    </tr>\n",
              "    <tr>\n",
              "      <th>50%</th>\n",
              "      <td>2.000000</td>\n",
              "      <td>4.198186</td>\n",
              "      <td>5.800000</td>\n",
              "      <td>0.450000</td>\n",
              "      <td>1.000000</td>\n",
              "      <td>1.000000</td>\n",
              "      <td>1.000000</td>\n",
              "    </tr>\n",
              "    <tr>\n",
              "      <th>75%</th>\n",
              "      <td>3.000000</td>\n",
              "      <td>6.000000</td>\n",
              "      <td>7.087365</td>\n",
              "      <td>0.590000</td>\n",
              "      <td>1.000000</td>\n",
              "      <td>1.000000</td>\n",
              "      <td>1.000000</td>\n",
              "    </tr>\n",
              "    <tr>\n",
              "      <th>max</th>\n",
              "      <td>5.000000</td>\n",
              "      <td>10.000000</td>\n",
              "      <td>10.755840</td>\n",
              "      <td>1.000000</td>\n",
              "      <td>1.000000</td>\n",
              "      <td>1.000000</td>\n",
              "      <td>1.000000</td>\n",
              "    </tr>\n",
              "  </tbody>\n",
              "</table>\n",
              "</div>"
            ],
            "text/plain": [
              "        Designation  ...  WFH Setup Available_Yes\n",
              "count  22750.000000  ...             22750.000000\n",
              "mean       2.178725  ...                 0.540220\n",
              "std        1.135145  ...                 0.498391\n",
              "min        0.000000  ...                 0.000000\n",
              "25%        1.000000  ...                 0.000000\n",
              "50%        2.000000  ...                 1.000000\n",
              "75%        3.000000  ...                 1.000000\n",
              "max        5.000000  ...                 1.000000\n",
              "\n",
              "[8 rows x 7 columns]"
            ]
          },
          "metadata": {},
          "execution_count": 59
        }
      ]
    },
    {
      "cell_type": "markdown",
      "metadata": {
        "id": "eLSk_UU0b97H"
      },
      "source": [
        ""
      ]
    },
    {
      "cell_type": "markdown",
      "metadata": {
        "id": "IuH2mR7ikNOb"
      },
      "source": [
        "# **Model building and evaluation**"
      ]
    },
    {
      "cell_type": "markdown",
      "metadata": {
        "id": "mzKBGqdkp22Y"
      },
      "source": [
        "Lets find the performance of different ensemble techniques on the data -> 1.XGBoost 2.AdaBoost 3.RandomForest. Metric -> R2 Score."
      ]
    },
    {
      "cell_type": "code",
      "metadata": {
        "colab": {
          "base_uri": "https://localhost:8080/"
        },
        "id": "kZdiV_nQdpVJ",
        "outputId": "fffd8d53-dfc2-446c-b456-dca70611758d"
      },
      "source": [
        "\n",
        "model1 = XGBRegressor()\n",
        "X = df.drop('Burn Rate',axis=1)\n",
        "y = df['Burn Rate']\n",
        "score = cross_val_score(model1,X,y,cv = 5,scoring = 'r2')"
      ],
      "execution_count": 60,
      "outputs": [
        {
          "output_type": "stream",
          "name": "stdout",
          "text": [
            "[03:55:22] WARNING: /workspace/src/objective/regression_obj.cu:152: reg:linear is now deprecated in favor of reg:squarederror.\n",
            "[03:55:23] WARNING: /workspace/src/objective/regression_obj.cu:152: reg:linear is now deprecated in favor of reg:squarederror.\n",
            "[03:55:24] WARNING: /workspace/src/objective/regression_obj.cu:152: reg:linear is now deprecated in favor of reg:squarederror.\n",
            "[03:55:24] WARNING: /workspace/src/objective/regression_obj.cu:152: reg:linear is now deprecated in favor of reg:squarederror.\n",
            "[03:55:25] WARNING: /workspace/src/objective/regression_obj.cu:152: reg:linear is now deprecated in favor of reg:squarederror.\n"
          ]
        }
      ]
    },
    {
      "cell_type": "code",
      "metadata": {
        "colab": {
          "base_uri": "https://localhost:8080/"
        },
        "id": "vpAvmNmkfzRW",
        "outputId": "26c68783-8fb9-485d-ce47-5ddb95f7d14a"
      },
      "source": [
        "score.mean()"
      ],
      "execution_count": 61,
      "outputs": [
        {
          "output_type": "execute_result",
          "data": {
            "text/plain": [
              "0.9323452606723368"
            ]
          },
          "metadata": {},
          "execution_count": 61
        }
      ]
    },
    {
      "cell_type": "code",
      "metadata": {
        "colab": {
          "base_uri": "https://localhost:8080/"
        },
        "id": "V6pTxSSF9PwX",
        "outputId": "3bd7b00b-9d3f-404f-a05c-3d3fac572c0d"
      },
      "source": [
        "model1.fit(X,y)"
      ],
      "execution_count": 62,
      "outputs": [
        {
          "output_type": "stream",
          "name": "stdout",
          "text": [
            "[03:55:26] WARNING: /workspace/src/objective/regression_obj.cu:152: reg:linear is now deprecated in favor of reg:squarederror.\n"
          ]
        },
        {
          "output_type": "execute_result",
          "data": {
            "text/plain": [
              "XGBRegressor(base_score=0.5, booster='gbtree', colsample_bylevel=1,\n",
              "             colsample_bynode=1, colsample_bytree=1, gamma=0,\n",
              "             importance_type='gain', learning_rate=0.1, max_delta_step=0,\n",
              "             max_depth=3, min_child_weight=1, missing=None, n_estimators=100,\n",
              "             n_jobs=1, nthread=None, objective='reg:linear', random_state=0,\n",
              "             reg_alpha=0, reg_lambda=1, scale_pos_weight=1, seed=None,\n",
              "             silent=None, subsample=1, verbosity=1)"
            ]
          },
          "metadata": {},
          "execution_count": 62
        }
      ]
    },
    {
      "cell_type": "code",
      "metadata": {
        "id": "fsMmleHFg50a"
      },
      "source": [
        "model2 = AdaBoostRegressor()\n",
        "score = cross_val_score(model2,X,y,cv = 5,scoring = 'r2')"
      ],
      "execution_count": 63,
      "outputs": []
    },
    {
      "cell_type": "code",
      "metadata": {
        "colab": {
          "base_uri": "https://localhost:8080/"
        },
        "id": "cdQ8QVQui2xo",
        "outputId": "2f250eb6-977b-4e89-f54d-fdcc933f9a41"
      },
      "source": [
        "score.mean()"
      ],
      "execution_count": 64,
      "outputs": [
        {
          "output_type": "execute_result",
          "data": {
            "text/plain": [
              "0.9136577199841481"
            ]
          },
          "metadata": {},
          "execution_count": 64
        }
      ]
    },
    {
      "cell_type": "code",
      "metadata": {
        "id": "yE5zlPHji5Lj"
      },
      "source": [
        "from sklearn.ensemble import RandomForestRegressor\n",
        "model3 = RandomForestRegressor()\n",
        "score = cross_val_score(model3,X,y,cv = 5,scoring = 'r2')"
      ],
      "execution_count": 65,
      "outputs": []
    },
    {
      "cell_type": "code",
      "metadata": {
        "colab": {
          "base_uri": "https://localhost:8080/"
        },
        "id": "X0y4E4nfjHPF",
        "outputId": "8b221371-4c12-48f0-a36a-c307ac6d4346"
      },
      "source": [
        "score.mean()"
      ],
      "execution_count": 66,
      "outputs": [
        {
          "output_type": "execute_result",
          "data": {
            "text/plain": [
              "0.9218468275210399"
            ]
          },
          "metadata": {},
          "execution_count": 66
        }
      ]
    },
    {
      "cell_type": "code",
      "metadata": {
        "id": "C0BTizzerVs-"
      },
      "source": [
        "regressor = XGBRegressor()"
      ],
      "execution_count": 67,
      "outputs": []
    },
    {
      "cell_type": "markdown",
      "metadata": {
        "id": "ZiqayCDskkH6"
      },
      "source": [
        "# **Hyperparameter tuning**"
      ]
    },
    {
      "cell_type": "code",
      "metadata": {
        "colab": {
          "base_uri": "https://localhost:8080/"
        },
        "id": "e-vq8E6pjPRH",
        "outputId": "a90a3eed-8514-419e-f7c6-14d5a19af0ef"
      },
      "source": [
        "param_grid = {\n",
        "    \"colsample_bytree\" : np.arange(0.1,1,0.1),\n",
        "    \"gamma\" : np.arange(0.01,0.1,0.01),\n",
        "    \"learning_rate\" : np.arange(0.01,0.1,0.01),\n",
        "    \"max_depth\" : np.arange(2,10),\n",
        "    \"n_estimators\" : np.arange(1500,2500,100),\n",
        "    \"reg_alpha\" : np.arange(0,1,0.1),\n",
        "     \"reg_lambda\" : np.arange(0,1,0.1),\n",
        "    \"subsample\" : np.arange(0.1,1,0.1), \n",
        "      \"silent\"  : [1],\n",
        "    \"nthread\" : [-1],\n",
        "}\n",
        "model  = RandomizedSearchCV(\n",
        "    estimator= regressor,\n",
        "    param_distributions= param_grid,\n",
        "    n_iter=20,\n",
        "    scoring = 'r2',\n",
        "    verbose= 3,\n",
        "    n_jobs=1,\n",
        "    cv = 5\n",
        "    )\n",
        "model.fit(X,y)"
      ],
      "execution_count": 69,
      "outputs": [
        {
          "output_type": "stream",
          "name": "stdout",
          "text": [
            "Fitting 5 folds for each of 20 candidates, totalling 100 fits\n",
            "[CV] subsample=0.6, silent=1, reg_lambda=0.0, reg_alpha=0.7000000000000001, nthread=-1, n_estimators=2300, max_depth=2, learning_rate=0.06999999999999999, gamma=0.01, colsample_bytree=0.4 \n"
          ]
        },
        {
          "output_type": "stream",
          "name": "stderr",
          "text": [
            "[Parallel(n_jobs=1)]: Using backend SequentialBackend with 1 concurrent workers.\n"
          ]
        },
        {
          "output_type": "stream",
          "name": "stdout",
          "text": [
            "[CV]  subsample=0.6, silent=1, reg_lambda=0.0, reg_alpha=0.7000000000000001, nthread=-1, n_estimators=2300, max_depth=2, learning_rate=0.06999999999999999, gamma=0.01, colsample_bytree=0.4, score=0.932, total=  10.5s\n",
            "[CV] subsample=0.6, silent=1, reg_lambda=0.0, reg_alpha=0.7000000000000001, nthread=-1, n_estimators=2300, max_depth=2, learning_rate=0.06999999999999999, gamma=0.01, colsample_bytree=0.4 \n"
          ]
        },
        {
          "output_type": "stream",
          "name": "stderr",
          "text": [
            "[Parallel(n_jobs=1)]: Done   1 out of   1 | elapsed:   10.5s remaining:    0.0s\n"
          ]
        },
        {
          "output_type": "stream",
          "name": "stdout",
          "text": [
            "[CV]  subsample=0.6, silent=1, reg_lambda=0.0, reg_alpha=0.7000000000000001, nthread=-1, n_estimators=2300, max_depth=2, learning_rate=0.06999999999999999, gamma=0.01, colsample_bytree=0.4, score=0.931, total=  10.4s\n",
            "[CV] subsample=0.6, silent=1, reg_lambda=0.0, reg_alpha=0.7000000000000001, nthread=-1, n_estimators=2300, max_depth=2, learning_rate=0.06999999999999999, gamma=0.01, colsample_bytree=0.4 \n"
          ]
        },
        {
          "output_type": "stream",
          "name": "stderr",
          "text": [
            "[Parallel(n_jobs=1)]: Done   2 out of   2 | elapsed:   20.9s remaining:    0.0s\n"
          ]
        },
        {
          "output_type": "stream",
          "name": "stdout",
          "text": [
            "[CV]  subsample=0.6, silent=1, reg_lambda=0.0, reg_alpha=0.7000000000000001, nthread=-1, n_estimators=2300, max_depth=2, learning_rate=0.06999999999999999, gamma=0.01, colsample_bytree=0.4, score=0.931, total=  10.5s\n",
            "[CV] subsample=0.6, silent=1, reg_lambda=0.0, reg_alpha=0.7000000000000001, nthread=-1, n_estimators=2300, max_depth=2, learning_rate=0.06999999999999999, gamma=0.01, colsample_bytree=0.4 \n",
            "[CV]  subsample=0.6, silent=1, reg_lambda=0.0, reg_alpha=0.7000000000000001, nthread=-1, n_estimators=2300, max_depth=2, learning_rate=0.06999999999999999, gamma=0.01, colsample_bytree=0.4, score=0.933, total=  10.4s\n",
            "[CV] subsample=0.6, silent=1, reg_lambda=0.0, reg_alpha=0.7000000000000001, nthread=-1, n_estimators=2300, max_depth=2, learning_rate=0.06999999999999999, gamma=0.01, colsample_bytree=0.4 \n",
            "[CV]  subsample=0.6, silent=1, reg_lambda=0.0, reg_alpha=0.7000000000000001, nthread=-1, n_estimators=2300, max_depth=2, learning_rate=0.06999999999999999, gamma=0.01, colsample_bytree=0.4, score=0.930, total=  10.5s\n",
            "[CV] subsample=0.4, silent=1, reg_lambda=0.30000000000000004, reg_alpha=0.6000000000000001, nthread=-1, n_estimators=1800, max_depth=8, learning_rate=0.09, gamma=0.03, colsample_bytree=0.2 \n",
            "[CV]  subsample=0.4, silent=1, reg_lambda=0.30000000000000004, reg_alpha=0.6000000000000001, nthread=-1, n_estimators=1800, max_depth=8, learning_rate=0.09, gamma=0.03, colsample_bytree=0.2, score=0.930, total=   9.0s\n",
            "[CV] subsample=0.4, silent=1, reg_lambda=0.30000000000000004, reg_alpha=0.6000000000000001, nthread=-1, n_estimators=1800, max_depth=8, learning_rate=0.09, gamma=0.03, colsample_bytree=0.2 \n",
            "[CV]  subsample=0.4, silent=1, reg_lambda=0.30000000000000004, reg_alpha=0.6000000000000001, nthread=-1, n_estimators=1800, max_depth=8, learning_rate=0.09, gamma=0.03, colsample_bytree=0.2, score=0.929, total=   8.9s\n",
            "[CV] subsample=0.4, silent=1, reg_lambda=0.30000000000000004, reg_alpha=0.6000000000000001, nthread=-1, n_estimators=1800, max_depth=8, learning_rate=0.09, gamma=0.03, colsample_bytree=0.2 \n",
            "[CV]  subsample=0.4, silent=1, reg_lambda=0.30000000000000004, reg_alpha=0.6000000000000001, nthread=-1, n_estimators=1800, max_depth=8, learning_rate=0.09, gamma=0.03, colsample_bytree=0.2, score=0.929, total=   9.0s\n",
            "[CV] subsample=0.4, silent=1, reg_lambda=0.30000000000000004, reg_alpha=0.6000000000000001, nthread=-1, n_estimators=1800, max_depth=8, learning_rate=0.09, gamma=0.03, colsample_bytree=0.2 \n",
            "[CV]  subsample=0.4, silent=1, reg_lambda=0.30000000000000004, reg_alpha=0.6000000000000001, nthread=-1, n_estimators=1800, max_depth=8, learning_rate=0.09, gamma=0.03, colsample_bytree=0.2, score=0.931, total=   8.9s\n",
            "[CV] subsample=0.4, silent=1, reg_lambda=0.30000000000000004, reg_alpha=0.6000000000000001, nthread=-1, n_estimators=1800, max_depth=8, learning_rate=0.09, gamma=0.03, colsample_bytree=0.2 \n",
            "[CV]  subsample=0.4, silent=1, reg_lambda=0.30000000000000004, reg_alpha=0.6000000000000001, nthread=-1, n_estimators=1800, max_depth=8, learning_rate=0.09, gamma=0.03, colsample_bytree=0.2, score=0.927, total=   8.9s\n",
            "[CV] subsample=0.6, silent=1, reg_lambda=0.8, reg_alpha=0.2, nthread=-1, n_estimators=2000, max_depth=4, learning_rate=0.06999999999999999, gamma=0.03, colsample_bytree=0.6 \n",
            "[CV]  subsample=0.6, silent=1, reg_lambda=0.8, reg_alpha=0.2, nthread=-1, n_estimators=2000, max_depth=4, learning_rate=0.06999999999999999, gamma=0.03, colsample_bytree=0.6, score=0.933, total=  14.5s\n",
            "[CV] subsample=0.6, silent=1, reg_lambda=0.8, reg_alpha=0.2, nthread=-1, n_estimators=2000, max_depth=4, learning_rate=0.06999999999999999, gamma=0.03, colsample_bytree=0.6 \n",
            "[CV]  subsample=0.6, silent=1, reg_lambda=0.8, reg_alpha=0.2, nthread=-1, n_estimators=2000, max_depth=4, learning_rate=0.06999999999999999, gamma=0.03, colsample_bytree=0.6, score=0.932, total=  14.5s\n",
            "[CV] subsample=0.6, silent=1, reg_lambda=0.8, reg_alpha=0.2, nthread=-1, n_estimators=2000, max_depth=4, learning_rate=0.06999999999999999, gamma=0.03, colsample_bytree=0.6 \n",
            "[CV]  subsample=0.6, silent=1, reg_lambda=0.8, reg_alpha=0.2, nthread=-1, n_estimators=2000, max_depth=4, learning_rate=0.06999999999999999, gamma=0.03, colsample_bytree=0.6, score=0.932, total=  14.5s\n",
            "[CV] subsample=0.6, silent=1, reg_lambda=0.8, reg_alpha=0.2, nthread=-1, n_estimators=2000, max_depth=4, learning_rate=0.06999999999999999, gamma=0.03, colsample_bytree=0.6 \n",
            "[CV]  subsample=0.6, silent=1, reg_lambda=0.8, reg_alpha=0.2, nthread=-1, n_estimators=2000, max_depth=4, learning_rate=0.06999999999999999, gamma=0.03, colsample_bytree=0.6, score=0.934, total=  14.5s\n",
            "[CV] subsample=0.6, silent=1, reg_lambda=0.8, reg_alpha=0.2, nthread=-1, n_estimators=2000, max_depth=4, learning_rate=0.06999999999999999, gamma=0.03, colsample_bytree=0.6 \n",
            "[CV]  subsample=0.6, silent=1, reg_lambda=0.8, reg_alpha=0.2, nthread=-1, n_estimators=2000, max_depth=4, learning_rate=0.06999999999999999, gamma=0.03, colsample_bytree=0.6, score=0.931, total=  14.4s\n",
            "[CV] subsample=0.30000000000000004, silent=1, reg_lambda=0.4, reg_alpha=0.9, nthread=-1, n_estimators=2100, max_depth=3, learning_rate=0.02, gamma=0.09, colsample_bytree=0.9 \n",
            "[CV]  subsample=0.30000000000000004, silent=1, reg_lambda=0.4, reg_alpha=0.9, nthread=-1, n_estimators=2100, max_depth=3, learning_rate=0.02, gamma=0.09, colsample_bytree=0.9, score=0.930, total=  13.2s\n",
            "[CV] subsample=0.30000000000000004, silent=1, reg_lambda=0.4, reg_alpha=0.9, nthread=-1, n_estimators=2100, max_depth=3, learning_rate=0.02, gamma=0.09, colsample_bytree=0.9 \n",
            "[CV]  subsample=0.30000000000000004, silent=1, reg_lambda=0.4, reg_alpha=0.9, nthread=-1, n_estimators=2100, max_depth=3, learning_rate=0.02, gamma=0.09, colsample_bytree=0.9, score=0.930, total=  13.2s\n",
            "[CV] subsample=0.30000000000000004, silent=1, reg_lambda=0.4, reg_alpha=0.9, nthread=-1, n_estimators=2100, max_depth=3, learning_rate=0.02, gamma=0.09, colsample_bytree=0.9 \n",
            "[CV]  subsample=0.30000000000000004, silent=1, reg_lambda=0.4, reg_alpha=0.9, nthread=-1, n_estimators=2100, max_depth=3, learning_rate=0.02, gamma=0.09, colsample_bytree=0.9, score=0.930, total=  13.2s\n",
            "[CV] subsample=0.30000000000000004, silent=1, reg_lambda=0.4, reg_alpha=0.9, nthread=-1, n_estimators=2100, max_depth=3, learning_rate=0.02, gamma=0.09, colsample_bytree=0.9 \n",
            "[CV]  subsample=0.30000000000000004, silent=1, reg_lambda=0.4, reg_alpha=0.9, nthread=-1, n_estimators=2100, max_depth=3, learning_rate=0.02, gamma=0.09, colsample_bytree=0.9, score=0.931, total=  13.2s\n",
            "[CV] subsample=0.30000000000000004, silent=1, reg_lambda=0.4, reg_alpha=0.9, nthread=-1, n_estimators=2100, max_depth=3, learning_rate=0.02, gamma=0.09, colsample_bytree=0.9 \n",
            "[CV]  subsample=0.30000000000000004, silent=1, reg_lambda=0.4, reg_alpha=0.9, nthread=-1, n_estimators=2100, max_depth=3, learning_rate=0.02, gamma=0.09, colsample_bytree=0.9, score=0.927, total=  13.1s\n",
            "[CV] subsample=0.8, silent=1, reg_lambda=0.9, reg_alpha=0.7000000000000001, nthread=-1, n_estimators=1800, max_depth=8, learning_rate=0.01, gamma=0.060000000000000005, colsample_bytree=0.1 \n",
            "[CV]  subsample=0.8, silent=1, reg_lambda=0.9, reg_alpha=0.7000000000000001, nthread=-1, n_estimators=1800, max_depth=8, learning_rate=0.01, gamma=0.060000000000000005, colsample_bytree=0.1, score=0.912, total=   8.6s\n",
            "[CV] subsample=0.8, silent=1, reg_lambda=0.9, reg_alpha=0.7000000000000001, nthread=-1, n_estimators=1800, max_depth=8, learning_rate=0.01, gamma=0.060000000000000005, colsample_bytree=0.1 \n",
            "[CV]  subsample=0.8, silent=1, reg_lambda=0.9, reg_alpha=0.7000000000000001, nthread=-1, n_estimators=1800, max_depth=8, learning_rate=0.01, gamma=0.060000000000000005, colsample_bytree=0.1, score=0.911, total=   8.7s\n",
            "[CV] subsample=0.8, silent=1, reg_lambda=0.9, reg_alpha=0.7000000000000001, nthread=-1, n_estimators=1800, max_depth=8, learning_rate=0.01, gamma=0.060000000000000005, colsample_bytree=0.1 \n",
            "[CV]  subsample=0.8, silent=1, reg_lambda=0.9, reg_alpha=0.7000000000000001, nthread=-1, n_estimators=1800, max_depth=8, learning_rate=0.01, gamma=0.060000000000000005, colsample_bytree=0.1, score=0.910, total=   8.7s\n",
            "[CV] subsample=0.8, silent=1, reg_lambda=0.9, reg_alpha=0.7000000000000001, nthread=-1, n_estimators=1800, max_depth=8, learning_rate=0.01, gamma=0.060000000000000005, colsample_bytree=0.1 \n",
            "[CV]  subsample=0.8, silent=1, reg_lambda=0.9, reg_alpha=0.7000000000000001, nthread=-1, n_estimators=1800, max_depth=8, learning_rate=0.01, gamma=0.060000000000000005, colsample_bytree=0.1, score=0.913, total=   8.6s\n",
            "[CV] subsample=0.8, silent=1, reg_lambda=0.9, reg_alpha=0.7000000000000001, nthread=-1, n_estimators=1800, max_depth=8, learning_rate=0.01, gamma=0.060000000000000005, colsample_bytree=0.1 \n",
            "[CV]  subsample=0.8, silent=1, reg_lambda=0.9, reg_alpha=0.7000000000000001, nthread=-1, n_estimators=1800, max_depth=8, learning_rate=0.01, gamma=0.060000000000000005, colsample_bytree=0.1, score=0.909, total=   8.6s\n",
            "[CV] subsample=0.9, silent=1, reg_lambda=0.30000000000000004, reg_alpha=0.8, nthread=-1, n_estimators=2000, max_depth=5, learning_rate=0.06999999999999999, gamma=0.09, colsample_bytree=0.1 \n",
            "[CV]  subsample=0.9, silent=1, reg_lambda=0.30000000000000004, reg_alpha=0.8, nthread=-1, n_estimators=2000, max_depth=5, learning_rate=0.06999999999999999, gamma=0.09, colsample_bytree=0.1, score=0.928, total=   8.5s\n",
            "[CV] subsample=0.9, silent=1, reg_lambda=0.30000000000000004, reg_alpha=0.8, nthread=-1, n_estimators=2000, max_depth=5, learning_rate=0.06999999999999999, gamma=0.09, colsample_bytree=0.1 \n",
            "[CV]  subsample=0.9, silent=1, reg_lambda=0.30000000000000004, reg_alpha=0.8, nthread=-1, n_estimators=2000, max_depth=5, learning_rate=0.06999999999999999, gamma=0.09, colsample_bytree=0.1, score=0.927, total=   8.5s\n",
            "[CV] subsample=0.9, silent=1, reg_lambda=0.30000000000000004, reg_alpha=0.8, nthread=-1, n_estimators=2000, max_depth=5, learning_rate=0.06999999999999999, gamma=0.09, colsample_bytree=0.1 \n",
            "[CV]  subsample=0.9, silent=1, reg_lambda=0.30000000000000004, reg_alpha=0.8, nthread=-1, n_estimators=2000, max_depth=5, learning_rate=0.06999999999999999, gamma=0.09, colsample_bytree=0.1, score=0.927, total=   8.6s\n",
            "[CV] subsample=0.9, silent=1, reg_lambda=0.30000000000000004, reg_alpha=0.8, nthread=-1, n_estimators=2000, max_depth=5, learning_rate=0.06999999999999999, gamma=0.09, colsample_bytree=0.1 \n",
            "[CV]  subsample=0.9, silent=1, reg_lambda=0.30000000000000004, reg_alpha=0.8, nthread=-1, n_estimators=2000, max_depth=5, learning_rate=0.06999999999999999, gamma=0.09, colsample_bytree=0.1, score=0.929, total=   8.6s\n",
            "[CV] subsample=0.9, silent=1, reg_lambda=0.30000000000000004, reg_alpha=0.8, nthread=-1, n_estimators=2000, max_depth=5, learning_rate=0.06999999999999999, gamma=0.09, colsample_bytree=0.1 \n",
            "[CV]  subsample=0.9, silent=1, reg_lambda=0.30000000000000004, reg_alpha=0.8, nthread=-1, n_estimators=2000, max_depth=5, learning_rate=0.06999999999999999, gamma=0.09, colsample_bytree=0.1, score=0.925, total=   8.5s\n",
            "[CV] subsample=0.30000000000000004, silent=1, reg_lambda=0.9, reg_alpha=0.30000000000000004, nthread=-1, n_estimators=2200, max_depth=7, learning_rate=0.01, gamma=0.08, colsample_bytree=0.6 \n",
            "[CV]  subsample=0.30000000000000004, silent=1, reg_lambda=0.9, reg_alpha=0.30000000000000004, nthread=-1, n_estimators=2200, max_depth=7, learning_rate=0.01, gamma=0.08, colsample_bytree=0.6, score=0.930, total=  20.8s\n",
            "[CV] subsample=0.30000000000000004, silent=1, reg_lambda=0.9, reg_alpha=0.30000000000000004, nthread=-1, n_estimators=2200, max_depth=7, learning_rate=0.01, gamma=0.08, colsample_bytree=0.6 \n",
            "[CV]  subsample=0.30000000000000004, silent=1, reg_lambda=0.9, reg_alpha=0.30000000000000004, nthread=-1, n_estimators=2200, max_depth=7, learning_rate=0.01, gamma=0.08, colsample_bytree=0.6, score=0.929, total=  20.9s\n",
            "[CV] subsample=0.30000000000000004, silent=1, reg_lambda=0.9, reg_alpha=0.30000000000000004, nthread=-1, n_estimators=2200, max_depth=7, learning_rate=0.01, gamma=0.08, colsample_bytree=0.6 \n",
            "[CV]  subsample=0.30000000000000004, silent=1, reg_lambda=0.9, reg_alpha=0.30000000000000004, nthread=-1, n_estimators=2200, max_depth=7, learning_rate=0.01, gamma=0.08, colsample_bytree=0.6, score=0.929, total=  20.9s\n",
            "[CV] subsample=0.30000000000000004, silent=1, reg_lambda=0.9, reg_alpha=0.30000000000000004, nthread=-1, n_estimators=2200, max_depth=7, learning_rate=0.01, gamma=0.08, colsample_bytree=0.6 \n",
            "[CV]  subsample=0.30000000000000004, silent=1, reg_lambda=0.9, reg_alpha=0.30000000000000004, nthread=-1, n_estimators=2200, max_depth=7, learning_rate=0.01, gamma=0.08, colsample_bytree=0.6, score=0.931, total=  20.9s\n",
            "[CV] subsample=0.30000000000000004, silent=1, reg_lambda=0.9, reg_alpha=0.30000000000000004, nthread=-1, n_estimators=2200, max_depth=7, learning_rate=0.01, gamma=0.08, colsample_bytree=0.6 \n",
            "[CV]  subsample=0.30000000000000004, silent=1, reg_lambda=0.9, reg_alpha=0.30000000000000004, nthread=-1, n_estimators=2200, max_depth=7, learning_rate=0.01, gamma=0.08, colsample_bytree=0.6, score=0.928, total=  20.8s\n",
            "[CV] subsample=0.7000000000000001, silent=1, reg_lambda=0.4, reg_alpha=0.4, nthread=-1, n_estimators=2100, max_depth=5, learning_rate=0.05, gamma=0.05, colsample_bytree=0.30000000000000004 \n",
            "[CV]  subsample=0.7000000000000001, silent=1, reg_lambda=0.4, reg_alpha=0.4, nthread=-1, n_estimators=2100, max_depth=5, learning_rate=0.05, gamma=0.05, colsample_bytree=0.30000000000000004, score=0.930, total=   9.9s\n",
            "[CV] subsample=0.7000000000000001, silent=1, reg_lambda=0.4, reg_alpha=0.4, nthread=-1, n_estimators=2100, max_depth=5, learning_rate=0.05, gamma=0.05, colsample_bytree=0.30000000000000004 \n",
            "[CV]  subsample=0.7000000000000001, silent=1, reg_lambda=0.4, reg_alpha=0.4, nthread=-1, n_estimators=2100, max_depth=5, learning_rate=0.05, gamma=0.05, colsample_bytree=0.30000000000000004, score=0.929, total=   9.8s\n",
            "[CV] subsample=0.7000000000000001, silent=1, reg_lambda=0.4, reg_alpha=0.4, nthread=-1, n_estimators=2100, max_depth=5, learning_rate=0.05, gamma=0.05, colsample_bytree=0.30000000000000004 \n",
            "[CV]  subsample=0.7000000000000001, silent=1, reg_lambda=0.4, reg_alpha=0.4, nthread=-1, n_estimators=2100, max_depth=5, learning_rate=0.05, gamma=0.05, colsample_bytree=0.30000000000000004, score=0.929, total=   9.9s\n",
            "[CV] subsample=0.7000000000000001, silent=1, reg_lambda=0.4, reg_alpha=0.4, nthread=-1, n_estimators=2100, max_depth=5, learning_rate=0.05, gamma=0.05, colsample_bytree=0.30000000000000004 \n",
            "[CV]  subsample=0.7000000000000001, silent=1, reg_lambda=0.4, reg_alpha=0.4, nthread=-1, n_estimators=2100, max_depth=5, learning_rate=0.05, gamma=0.05, colsample_bytree=0.30000000000000004, score=0.930, total=   9.8s\n",
            "[CV] subsample=0.7000000000000001, silent=1, reg_lambda=0.4, reg_alpha=0.4, nthread=-1, n_estimators=2100, max_depth=5, learning_rate=0.05, gamma=0.05, colsample_bytree=0.30000000000000004 \n",
            "[CV]  subsample=0.7000000000000001, silent=1, reg_lambda=0.4, reg_alpha=0.4, nthread=-1, n_estimators=2100, max_depth=5, learning_rate=0.05, gamma=0.05, colsample_bytree=0.30000000000000004, score=0.927, total=   9.9s\n",
            "[CV] subsample=0.7000000000000001, silent=1, reg_lambda=0.1, reg_alpha=0.0, nthread=-1, n_estimators=1700, max_depth=7, learning_rate=0.02, gamma=0.05, colsample_bytree=0.7000000000000001 \n",
            "[CV]  subsample=0.7000000000000001, silent=1, reg_lambda=0.1, reg_alpha=0.0, nthread=-1, n_estimators=1700, max_depth=7, learning_rate=0.02, gamma=0.05, colsample_bytree=0.7000000000000001, score=0.933, total=  21.5s\n",
            "[CV] subsample=0.7000000000000001, silent=1, reg_lambda=0.1, reg_alpha=0.0, nthread=-1, n_estimators=1700, max_depth=7, learning_rate=0.02, gamma=0.05, colsample_bytree=0.7000000000000001 \n",
            "[CV]  subsample=0.7000000000000001, silent=1, reg_lambda=0.1, reg_alpha=0.0, nthread=-1, n_estimators=1700, max_depth=7, learning_rate=0.02, gamma=0.05, colsample_bytree=0.7000000000000001, score=0.932, total=  21.6s\n",
            "[CV] subsample=0.7000000000000001, silent=1, reg_lambda=0.1, reg_alpha=0.0, nthread=-1, n_estimators=1700, max_depth=7, learning_rate=0.02, gamma=0.05, colsample_bytree=0.7000000000000001 \n",
            "[CV]  subsample=0.7000000000000001, silent=1, reg_lambda=0.1, reg_alpha=0.0, nthread=-1, n_estimators=1700, max_depth=7, learning_rate=0.02, gamma=0.05, colsample_bytree=0.7000000000000001, score=0.933, total=  21.5s\n",
            "[CV] subsample=0.7000000000000001, silent=1, reg_lambda=0.1, reg_alpha=0.0, nthread=-1, n_estimators=1700, max_depth=7, learning_rate=0.02, gamma=0.05, colsample_bytree=0.7000000000000001 \n",
            "[CV]  subsample=0.7000000000000001, silent=1, reg_lambda=0.1, reg_alpha=0.0, nthread=-1, n_estimators=1700, max_depth=7, learning_rate=0.02, gamma=0.05, colsample_bytree=0.7000000000000001, score=0.934, total=  21.6s\n",
            "[CV] subsample=0.7000000000000001, silent=1, reg_lambda=0.1, reg_alpha=0.0, nthread=-1, n_estimators=1700, max_depth=7, learning_rate=0.02, gamma=0.05, colsample_bytree=0.7000000000000001 \n",
            "[CV]  subsample=0.7000000000000001, silent=1, reg_lambda=0.1, reg_alpha=0.0, nthread=-1, n_estimators=1700, max_depth=7, learning_rate=0.02, gamma=0.05, colsample_bytree=0.7000000000000001, score=0.931, total=  21.5s\n",
            "[CV] subsample=0.6, silent=1, reg_lambda=0.9, reg_alpha=0.2, nthread=-1, n_estimators=2400, max_depth=2, learning_rate=0.04, gamma=0.04, colsample_bytree=0.9 \n",
            "[CV]  subsample=0.6, silent=1, reg_lambda=0.9, reg_alpha=0.2, nthread=-1, n_estimators=2400, max_depth=2, learning_rate=0.04, gamma=0.04, colsample_bytree=0.9, score=0.931, total=  12.9s\n",
            "[CV] subsample=0.6, silent=1, reg_lambda=0.9, reg_alpha=0.2, nthread=-1, n_estimators=2400, max_depth=2, learning_rate=0.04, gamma=0.04, colsample_bytree=0.9 \n",
            "[CV]  subsample=0.6, silent=1, reg_lambda=0.9, reg_alpha=0.2, nthread=-1, n_estimators=2400, max_depth=2, learning_rate=0.04, gamma=0.04, colsample_bytree=0.9, score=0.931, total=  12.9s\n",
            "[CV] subsample=0.6, silent=1, reg_lambda=0.9, reg_alpha=0.2, nthread=-1, n_estimators=2400, max_depth=2, learning_rate=0.04, gamma=0.04, colsample_bytree=0.9 \n",
            "[CV]  subsample=0.6, silent=1, reg_lambda=0.9, reg_alpha=0.2, nthread=-1, n_estimators=2400, max_depth=2, learning_rate=0.04, gamma=0.04, colsample_bytree=0.9, score=0.930, total=  12.9s\n",
            "[CV] subsample=0.6, silent=1, reg_lambda=0.9, reg_alpha=0.2, nthread=-1, n_estimators=2400, max_depth=2, learning_rate=0.04, gamma=0.04, colsample_bytree=0.9 \n",
            "[CV]  subsample=0.6, silent=1, reg_lambda=0.9, reg_alpha=0.2, nthread=-1, n_estimators=2400, max_depth=2, learning_rate=0.04, gamma=0.04, colsample_bytree=0.9, score=0.932, total=  12.9s\n",
            "[CV] subsample=0.6, silent=1, reg_lambda=0.9, reg_alpha=0.2, nthread=-1, n_estimators=2400, max_depth=2, learning_rate=0.04, gamma=0.04, colsample_bytree=0.9 \n",
            "[CV]  subsample=0.6, silent=1, reg_lambda=0.9, reg_alpha=0.2, nthread=-1, n_estimators=2400, max_depth=2, learning_rate=0.04, gamma=0.04, colsample_bytree=0.9, score=0.928, total=  12.9s\n",
            "[CV] subsample=0.5, silent=1, reg_lambda=0.2, reg_alpha=0.6000000000000001, nthread=-1, n_estimators=1900, max_depth=4, learning_rate=0.06999999999999999, gamma=0.09, colsample_bytree=0.5 \n",
            "[CV]  subsample=0.5, silent=1, reg_lambda=0.2, reg_alpha=0.6000000000000001, nthread=-1, n_estimators=1900, max_depth=4, learning_rate=0.06999999999999999, gamma=0.09, colsample_bytree=0.5, score=0.931, total=  13.7s\n",
            "[CV] subsample=0.5, silent=1, reg_lambda=0.2, reg_alpha=0.6000000000000001, nthread=-1, n_estimators=1900, max_depth=4, learning_rate=0.06999999999999999, gamma=0.09, colsample_bytree=0.5 \n",
            "[CV]  subsample=0.5, silent=1, reg_lambda=0.2, reg_alpha=0.6000000000000001, nthread=-1, n_estimators=1900, max_depth=4, learning_rate=0.06999999999999999, gamma=0.09, colsample_bytree=0.5, score=0.931, total=  13.6s\n",
            "[CV] subsample=0.5, silent=1, reg_lambda=0.2, reg_alpha=0.6000000000000001, nthread=-1, n_estimators=1900, max_depth=4, learning_rate=0.06999999999999999, gamma=0.09, colsample_bytree=0.5 \n",
            "[CV]  subsample=0.5, silent=1, reg_lambda=0.2, reg_alpha=0.6000000000000001, nthread=-1, n_estimators=1900, max_depth=4, learning_rate=0.06999999999999999, gamma=0.09, colsample_bytree=0.5, score=0.930, total=  13.7s\n",
            "[CV] subsample=0.5, silent=1, reg_lambda=0.2, reg_alpha=0.6000000000000001, nthread=-1, n_estimators=1900, max_depth=4, learning_rate=0.06999999999999999, gamma=0.09, colsample_bytree=0.5 \n",
            "[CV]  subsample=0.5, silent=1, reg_lambda=0.2, reg_alpha=0.6000000000000001, nthread=-1, n_estimators=1900, max_depth=4, learning_rate=0.06999999999999999, gamma=0.09, colsample_bytree=0.5, score=0.932, total=  13.7s\n",
            "[CV] subsample=0.5, silent=1, reg_lambda=0.2, reg_alpha=0.6000000000000001, nthread=-1, n_estimators=1900, max_depth=4, learning_rate=0.06999999999999999, gamma=0.09, colsample_bytree=0.5 \n",
            "[CV]  subsample=0.5, silent=1, reg_lambda=0.2, reg_alpha=0.6000000000000001, nthread=-1, n_estimators=1900, max_depth=4, learning_rate=0.06999999999999999, gamma=0.09, colsample_bytree=0.5, score=0.929, total=  13.7s\n",
            "[CV] subsample=0.5, silent=1, reg_lambda=0.6000000000000001, reg_alpha=0.8, nthread=-1, n_estimators=2100, max_depth=9, learning_rate=0.09, gamma=0.05, colsample_bytree=0.1 \n",
            "[CV]  subsample=0.5, silent=1, reg_lambda=0.6000000000000001, reg_alpha=0.8, nthread=-1, n_estimators=2100, max_depth=9, learning_rate=0.09, gamma=0.05, colsample_bytree=0.1, score=0.930, total=  10.6s\n",
            "[CV] subsample=0.5, silent=1, reg_lambda=0.6000000000000001, reg_alpha=0.8, nthread=-1, n_estimators=2100, max_depth=9, learning_rate=0.09, gamma=0.05, colsample_bytree=0.1 \n",
            "[CV]  subsample=0.5, silent=1, reg_lambda=0.6000000000000001, reg_alpha=0.8, nthread=-1, n_estimators=2100, max_depth=9, learning_rate=0.09, gamma=0.05, colsample_bytree=0.1, score=0.928, total=  10.5s\n",
            "[CV] subsample=0.5, silent=1, reg_lambda=0.6000000000000001, reg_alpha=0.8, nthread=-1, n_estimators=2100, max_depth=9, learning_rate=0.09, gamma=0.05, colsample_bytree=0.1 \n",
            "[CV]  subsample=0.5, silent=1, reg_lambda=0.6000000000000001, reg_alpha=0.8, nthread=-1, n_estimators=2100, max_depth=9, learning_rate=0.09, gamma=0.05, colsample_bytree=0.1, score=0.928, total=  10.6s\n",
            "[CV] subsample=0.5, silent=1, reg_lambda=0.6000000000000001, reg_alpha=0.8, nthread=-1, n_estimators=2100, max_depth=9, learning_rate=0.09, gamma=0.05, colsample_bytree=0.1 \n",
            "[CV]  subsample=0.5, silent=1, reg_lambda=0.6000000000000001, reg_alpha=0.8, nthread=-1, n_estimators=2100, max_depth=9, learning_rate=0.09, gamma=0.05, colsample_bytree=0.1, score=0.930, total=  10.6s\n",
            "[CV] subsample=0.5, silent=1, reg_lambda=0.6000000000000001, reg_alpha=0.8, nthread=-1, n_estimators=2100, max_depth=9, learning_rate=0.09, gamma=0.05, colsample_bytree=0.1 \n",
            "[CV]  subsample=0.5, silent=1, reg_lambda=0.6000000000000001, reg_alpha=0.8, nthread=-1, n_estimators=2100, max_depth=9, learning_rate=0.09, gamma=0.05, colsample_bytree=0.1, score=0.927, total=  10.5s\n",
            "[CV] subsample=0.9, silent=1, reg_lambda=0.8, reg_alpha=0.9, nthread=-1, n_estimators=1900, max_depth=9, learning_rate=0.02, gamma=0.09, colsample_bytree=0.1 \n",
            "[CV]  subsample=0.9, silent=1, reg_lambda=0.8, reg_alpha=0.9, nthread=-1, n_estimators=1900, max_depth=9, learning_rate=0.02, gamma=0.09, colsample_bytree=0.1, score=0.926, total=   8.5s\n",
            "[CV] subsample=0.9, silent=1, reg_lambda=0.8, reg_alpha=0.9, nthread=-1, n_estimators=1900, max_depth=9, learning_rate=0.02, gamma=0.09, colsample_bytree=0.1 \n",
            "[CV]  subsample=0.9, silent=1, reg_lambda=0.8, reg_alpha=0.9, nthread=-1, n_estimators=1900, max_depth=9, learning_rate=0.02, gamma=0.09, colsample_bytree=0.1, score=0.925, total=   8.5s\n",
            "[CV] subsample=0.9, silent=1, reg_lambda=0.8, reg_alpha=0.9, nthread=-1, n_estimators=1900, max_depth=9, learning_rate=0.02, gamma=0.09, colsample_bytree=0.1 \n",
            "[CV]  subsample=0.9, silent=1, reg_lambda=0.8, reg_alpha=0.9, nthread=-1, n_estimators=1900, max_depth=9, learning_rate=0.02, gamma=0.09, colsample_bytree=0.1, score=0.924, total=   8.6s\n",
            "[CV] subsample=0.9, silent=1, reg_lambda=0.8, reg_alpha=0.9, nthread=-1, n_estimators=1900, max_depth=9, learning_rate=0.02, gamma=0.09, colsample_bytree=0.1 \n",
            "[CV]  subsample=0.9, silent=1, reg_lambda=0.8, reg_alpha=0.9, nthread=-1, n_estimators=1900, max_depth=9, learning_rate=0.02, gamma=0.09, colsample_bytree=0.1, score=0.927, total=   8.5s\n",
            "[CV] subsample=0.9, silent=1, reg_lambda=0.8, reg_alpha=0.9, nthread=-1, n_estimators=1900, max_depth=9, learning_rate=0.02, gamma=0.09, colsample_bytree=0.1 \n",
            "[CV]  subsample=0.9, silent=1, reg_lambda=0.8, reg_alpha=0.9, nthread=-1, n_estimators=1900, max_depth=9, learning_rate=0.02, gamma=0.09, colsample_bytree=0.1, score=0.923, total=   8.5s\n",
            "[CV] subsample=0.5, silent=1, reg_lambda=0.1, reg_alpha=0.8, nthread=-1, n_estimators=1800, max_depth=9, learning_rate=0.060000000000000005, gamma=0.02, colsample_bytree=0.7000000000000001 \n",
            "[CV]  subsample=0.5, silent=1, reg_lambda=0.1, reg_alpha=0.8, nthread=-1, n_estimators=1800, max_depth=9, learning_rate=0.060000000000000005, gamma=0.02, colsample_bytree=0.7000000000000001, score=0.933, total=  25.8s\n",
            "[CV] subsample=0.5, silent=1, reg_lambda=0.1, reg_alpha=0.8, nthread=-1, n_estimators=1800, max_depth=9, learning_rate=0.060000000000000005, gamma=0.02, colsample_bytree=0.7000000000000001 \n",
            "[CV]  subsample=0.5, silent=1, reg_lambda=0.1, reg_alpha=0.8, nthread=-1, n_estimators=1800, max_depth=9, learning_rate=0.060000000000000005, gamma=0.02, colsample_bytree=0.7000000000000001, score=0.932, total=  25.9s\n",
            "[CV] subsample=0.5, silent=1, reg_lambda=0.1, reg_alpha=0.8, nthread=-1, n_estimators=1800, max_depth=9, learning_rate=0.060000000000000005, gamma=0.02, colsample_bytree=0.7000000000000001 \n",
            "[CV]  subsample=0.5, silent=1, reg_lambda=0.1, reg_alpha=0.8, nthread=-1, n_estimators=1800, max_depth=9, learning_rate=0.060000000000000005, gamma=0.02, colsample_bytree=0.7000000000000001, score=0.933, total=  25.7s\n",
            "[CV] subsample=0.5, silent=1, reg_lambda=0.1, reg_alpha=0.8, nthread=-1, n_estimators=1800, max_depth=9, learning_rate=0.060000000000000005, gamma=0.02, colsample_bytree=0.7000000000000001 \n",
            "[CV]  subsample=0.5, silent=1, reg_lambda=0.1, reg_alpha=0.8, nthread=-1, n_estimators=1800, max_depth=9, learning_rate=0.060000000000000005, gamma=0.02, colsample_bytree=0.7000000000000001, score=0.934, total=  26.0s\n",
            "[CV] subsample=0.5, silent=1, reg_lambda=0.1, reg_alpha=0.8, nthread=-1, n_estimators=1800, max_depth=9, learning_rate=0.060000000000000005, gamma=0.02, colsample_bytree=0.7000000000000001 \n",
            "[CV]  subsample=0.5, silent=1, reg_lambda=0.1, reg_alpha=0.8, nthread=-1, n_estimators=1800, max_depth=9, learning_rate=0.060000000000000005, gamma=0.02, colsample_bytree=0.7000000000000001, score=0.931, total=  25.9s\n",
            "[CV] subsample=0.4, silent=1, reg_lambda=0.6000000000000001, reg_alpha=0.4, nthread=-1, n_estimators=2100, max_depth=2, learning_rate=0.06999999999999999, gamma=0.03, colsample_bytree=0.1 \n",
            "[CV]  subsample=0.4, silent=1, reg_lambda=0.6000000000000001, reg_alpha=0.4, nthread=-1, n_estimators=2100, max_depth=2, learning_rate=0.06999999999999999, gamma=0.03, colsample_bytree=0.1, score=0.930, total=   8.3s\n",
            "[CV] subsample=0.4, silent=1, reg_lambda=0.6000000000000001, reg_alpha=0.4, nthread=-1, n_estimators=2100, max_depth=2, learning_rate=0.06999999999999999, gamma=0.03, colsample_bytree=0.1 \n",
            "[CV]  subsample=0.4, silent=1, reg_lambda=0.6000000000000001, reg_alpha=0.4, nthread=-1, n_estimators=2100, max_depth=2, learning_rate=0.06999999999999999, gamma=0.03, colsample_bytree=0.1, score=0.929, total=   8.3s\n",
            "[CV] subsample=0.4, silent=1, reg_lambda=0.6000000000000001, reg_alpha=0.4, nthread=-1, n_estimators=2100, max_depth=2, learning_rate=0.06999999999999999, gamma=0.03, colsample_bytree=0.1 \n",
            "[CV]  subsample=0.4, silent=1, reg_lambda=0.6000000000000001, reg_alpha=0.4, nthread=-1, n_estimators=2100, max_depth=2, learning_rate=0.06999999999999999, gamma=0.03, colsample_bytree=0.1, score=0.929, total=   8.3s\n",
            "[CV] subsample=0.4, silent=1, reg_lambda=0.6000000000000001, reg_alpha=0.4, nthread=-1, n_estimators=2100, max_depth=2, learning_rate=0.06999999999999999, gamma=0.03, colsample_bytree=0.1 \n",
            "[CV]  subsample=0.4, silent=1, reg_lambda=0.6000000000000001, reg_alpha=0.4, nthread=-1, n_estimators=2100, max_depth=2, learning_rate=0.06999999999999999, gamma=0.03, colsample_bytree=0.1, score=0.931, total=   8.3s\n",
            "[CV] subsample=0.4, silent=1, reg_lambda=0.6000000000000001, reg_alpha=0.4, nthread=-1, n_estimators=2100, max_depth=2, learning_rate=0.06999999999999999, gamma=0.03, colsample_bytree=0.1 \n",
            "[CV]  subsample=0.4, silent=1, reg_lambda=0.6000000000000001, reg_alpha=0.4, nthread=-1, n_estimators=2100, max_depth=2, learning_rate=0.06999999999999999, gamma=0.03, colsample_bytree=0.1, score=0.927, total=   8.3s\n",
            "[CV] subsample=0.7000000000000001, silent=1, reg_lambda=0.6000000000000001, reg_alpha=0.7000000000000001, nthread=-1, n_estimators=1700, max_depth=5, learning_rate=0.09, gamma=0.04, colsample_bytree=0.8 \n",
            "[CV]  subsample=0.7000000000000001, silent=1, reg_lambda=0.6000000000000001, reg_alpha=0.7000000000000001, nthread=-1, n_estimators=1700, max_depth=5, learning_rate=0.09, gamma=0.04, colsample_bytree=0.8, score=0.933, total=  15.0s\n",
            "[CV] subsample=0.7000000000000001, silent=1, reg_lambda=0.6000000000000001, reg_alpha=0.7000000000000001, nthread=-1, n_estimators=1700, max_depth=5, learning_rate=0.09, gamma=0.04, colsample_bytree=0.8 \n",
            "[CV]  subsample=0.7000000000000001, silent=1, reg_lambda=0.6000000000000001, reg_alpha=0.7000000000000001, nthread=-1, n_estimators=1700, max_depth=5, learning_rate=0.09, gamma=0.04, colsample_bytree=0.8, score=0.932, total=  15.0s\n",
            "[CV] subsample=0.7000000000000001, silent=1, reg_lambda=0.6000000000000001, reg_alpha=0.7000000000000001, nthread=-1, n_estimators=1700, max_depth=5, learning_rate=0.09, gamma=0.04, colsample_bytree=0.8 \n",
            "[CV]  subsample=0.7000000000000001, silent=1, reg_lambda=0.6000000000000001, reg_alpha=0.7000000000000001, nthread=-1, n_estimators=1700, max_depth=5, learning_rate=0.09, gamma=0.04, colsample_bytree=0.8, score=0.932, total=  15.1s\n",
            "[CV] subsample=0.7000000000000001, silent=1, reg_lambda=0.6000000000000001, reg_alpha=0.7000000000000001, nthread=-1, n_estimators=1700, max_depth=5, learning_rate=0.09, gamma=0.04, colsample_bytree=0.8 \n",
            "[CV]  subsample=0.7000000000000001, silent=1, reg_lambda=0.6000000000000001, reg_alpha=0.7000000000000001, nthread=-1, n_estimators=1700, max_depth=5, learning_rate=0.09, gamma=0.04, colsample_bytree=0.8, score=0.933, total=  14.9s\n",
            "[CV] subsample=0.7000000000000001, silent=1, reg_lambda=0.6000000000000001, reg_alpha=0.7000000000000001, nthread=-1, n_estimators=1700, max_depth=5, learning_rate=0.09, gamma=0.04, colsample_bytree=0.8 \n",
            "[CV]  subsample=0.7000000000000001, silent=1, reg_lambda=0.6000000000000001, reg_alpha=0.7000000000000001, nthread=-1, n_estimators=1700, max_depth=5, learning_rate=0.09, gamma=0.04, colsample_bytree=0.8, score=0.930, total=  14.9s\n",
            "[CV] subsample=0.30000000000000004, silent=1, reg_lambda=0.2, reg_alpha=0.4, nthread=-1, n_estimators=2400, max_depth=5, learning_rate=0.02, gamma=0.060000000000000005, colsample_bytree=0.1 \n",
            "[CV]  subsample=0.30000000000000004, silent=1, reg_lambda=0.2, reg_alpha=0.4, nthread=-1, n_estimators=2400, max_depth=5, learning_rate=0.02, gamma=0.060000000000000005, colsample_bytree=0.1, score=0.927, total=  11.0s\n",
            "[CV] subsample=0.30000000000000004, silent=1, reg_lambda=0.2, reg_alpha=0.4, nthread=-1, n_estimators=2400, max_depth=5, learning_rate=0.02, gamma=0.060000000000000005, colsample_bytree=0.1 \n",
            "[CV]  subsample=0.30000000000000004, silent=1, reg_lambda=0.2, reg_alpha=0.4, nthread=-1, n_estimators=2400, max_depth=5, learning_rate=0.02, gamma=0.060000000000000005, colsample_bytree=0.1, score=0.926, total=  11.0s\n",
            "[CV] subsample=0.30000000000000004, silent=1, reg_lambda=0.2, reg_alpha=0.4, nthread=-1, n_estimators=2400, max_depth=5, learning_rate=0.02, gamma=0.060000000000000005, colsample_bytree=0.1 \n",
            "[CV]  subsample=0.30000000000000004, silent=1, reg_lambda=0.2, reg_alpha=0.4, nthread=-1, n_estimators=2400, max_depth=5, learning_rate=0.02, gamma=0.060000000000000005, colsample_bytree=0.1, score=0.925, total=  11.0s\n",
            "[CV] subsample=0.30000000000000004, silent=1, reg_lambda=0.2, reg_alpha=0.4, nthread=-1, n_estimators=2400, max_depth=5, learning_rate=0.02, gamma=0.060000000000000005, colsample_bytree=0.1 \n",
            "[CV]  subsample=0.30000000000000004, silent=1, reg_lambda=0.2, reg_alpha=0.4, nthread=-1, n_estimators=2400, max_depth=5, learning_rate=0.02, gamma=0.060000000000000005, colsample_bytree=0.1, score=0.927, total=  11.0s\n",
            "[CV] subsample=0.30000000000000004, silent=1, reg_lambda=0.2, reg_alpha=0.4, nthread=-1, n_estimators=2400, max_depth=5, learning_rate=0.02, gamma=0.060000000000000005, colsample_bytree=0.1 \n",
            "[CV]  subsample=0.30000000000000004, silent=1, reg_lambda=0.2, reg_alpha=0.4, nthread=-1, n_estimators=2400, max_depth=5, learning_rate=0.02, gamma=0.060000000000000005, colsample_bytree=0.1, score=0.924, total=  11.0s\n",
            "[CV] subsample=0.1, silent=1, reg_lambda=0.7000000000000001, reg_alpha=0.6000000000000001, nthread=-1, n_estimators=2100, max_depth=9, learning_rate=0.05, gamma=0.09, colsample_bytree=0.8 \n",
            "[CV]  subsample=0.1, silent=1, reg_lambda=0.7000000000000001, reg_alpha=0.6000000000000001, nthread=-1, n_estimators=2100, max_depth=9, learning_rate=0.05, gamma=0.09, colsample_bytree=0.8, score=0.927, total=  19.1s\n",
            "[CV] subsample=0.1, silent=1, reg_lambda=0.7000000000000001, reg_alpha=0.6000000000000001, nthread=-1, n_estimators=2100, max_depth=9, learning_rate=0.05, gamma=0.09, colsample_bytree=0.8 \n",
            "[CV]  subsample=0.1, silent=1, reg_lambda=0.7000000000000001, reg_alpha=0.6000000000000001, nthread=-1, n_estimators=2100, max_depth=9, learning_rate=0.05, gamma=0.09, colsample_bytree=0.8, score=0.927, total=  19.2s\n",
            "[CV] subsample=0.1, silent=1, reg_lambda=0.7000000000000001, reg_alpha=0.6000000000000001, nthread=-1, n_estimators=2100, max_depth=9, learning_rate=0.05, gamma=0.09, colsample_bytree=0.8 \n",
            "[CV]  subsample=0.1, silent=1, reg_lambda=0.7000000000000001, reg_alpha=0.6000000000000001, nthread=-1, n_estimators=2100, max_depth=9, learning_rate=0.05, gamma=0.09, colsample_bytree=0.8, score=0.926, total=  19.2s\n",
            "[CV] subsample=0.1, silent=1, reg_lambda=0.7000000000000001, reg_alpha=0.6000000000000001, nthread=-1, n_estimators=2100, max_depth=9, learning_rate=0.05, gamma=0.09, colsample_bytree=0.8 \n",
            "[CV]  subsample=0.1, silent=1, reg_lambda=0.7000000000000001, reg_alpha=0.6000000000000001, nthread=-1, n_estimators=2100, max_depth=9, learning_rate=0.05, gamma=0.09, colsample_bytree=0.8, score=0.928, total=  19.1s\n",
            "[CV] subsample=0.1, silent=1, reg_lambda=0.7000000000000001, reg_alpha=0.6000000000000001, nthread=-1, n_estimators=2100, max_depth=9, learning_rate=0.05, gamma=0.09, colsample_bytree=0.8 \n",
            "[CV]  subsample=0.1, silent=1, reg_lambda=0.7000000000000001, reg_alpha=0.6000000000000001, nthread=-1, n_estimators=2100, max_depth=9, learning_rate=0.05, gamma=0.09, colsample_bytree=0.8, score=0.924, total=  19.1s\n",
            "[CV] subsample=0.5, silent=1, reg_lambda=0.4, reg_alpha=0.0, nthread=-1, n_estimators=2300, max_depth=5, learning_rate=0.01, gamma=0.01, colsample_bytree=0.30000000000000004 \n",
            "[CV]  subsample=0.5, silent=1, reg_lambda=0.4, reg_alpha=0.0, nthread=-1, n_estimators=2300, max_depth=5, learning_rate=0.01, gamma=0.01, colsample_bytree=0.30000000000000004, score=0.921, total=  12.2s\n",
            "[CV] subsample=0.5, silent=1, reg_lambda=0.4, reg_alpha=0.0, nthread=-1, n_estimators=2300, max_depth=5, learning_rate=0.01, gamma=0.01, colsample_bytree=0.30000000000000004 \n",
            "[CV]  subsample=0.5, silent=1, reg_lambda=0.4, reg_alpha=0.0, nthread=-1, n_estimators=2300, max_depth=5, learning_rate=0.01, gamma=0.01, colsample_bytree=0.30000000000000004, score=0.919, total=  12.2s\n",
            "[CV] subsample=0.5, silent=1, reg_lambda=0.4, reg_alpha=0.0, nthread=-1, n_estimators=2300, max_depth=5, learning_rate=0.01, gamma=0.01, colsample_bytree=0.30000000000000004 \n",
            "[CV]  subsample=0.5, silent=1, reg_lambda=0.4, reg_alpha=0.0, nthread=-1, n_estimators=2300, max_depth=5, learning_rate=0.01, gamma=0.01, colsample_bytree=0.30000000000000004, score=0.919, total=  12.2s\n",
            "[CV] subsample=0.5, silent=1, reg_lambda=0.4, reg_alpha=0.0, nthread=-1, n_estimators=2300, max_depth=5, learning_rate=0.01, gamma=0.01, colsample_bytree=0.30000000000000004 \n",
            "[CV]  subsample=0.5, silent=1, reg_lambda=0.4, reg_alpha=0.0, nthread=-1, n_estimators=2300, max_depth=5, learning_rate=0.01, gamma=0.01, colsample_bytree=0.30000000000000004, score=0.921, total=  12.2s\n",
            "[CV] subsample=0.5, silent=1, reg_lambda=0.4, reg_alpha=0.0, nthread=-1, n_estimators=2300, max_depth=5, learning_rate=0.01, gamma=0.01, colsample_bytree=0.30000000000000004 \n",
            "[CV]  subsample=0.5, silent=1, reg_lambda=0.4, reg_alpha=0.0, nthread=-1, n_estimators=2300, max_depth=5, learning_rate=0.01, gamma=0.01, colsample_bytree=0.30000000000000004, score=0.918, total=  12.2s\n",
            "[CV] subsample=0.5, silent=1, reg_lambda=0.30000000000000004, reg_alpha=0.4, nthread=-1, n_estimators=1500, max_depth=3, learning_rate=0.04, gamma=0.01, colsample_bytree=0.30000000000000004 \n",
            "[CV]  subsample=0.5, silent=1, reg_lambda=0.30000000000000004, reg_alpha=0.4, nthread=-1, n_estimators=1500, max_depth=3, learning_rate=0.04, gamma=0.01, colsample_bytree=0.30000000000000004, score=0.930, total=   6.9s\n",
            "[CV] subsample=0.5, silent=1, reg_lambda=0.30000000000000004, reg_alpha=0.4, nthread=-1, n_estimators=1500, max_depth=3, learning_rate=0.04, gamma=0.01, colsample_bytree=0.30000000000000004 \n",
            "[CV]  subsample=0.5, silent=1, reg_lambda=0.30000000000000004, reg_alpha=0.4, nthread=-1, n_estimators=1500, max_depth=3, learning_rate=0.04, gamma=0.01, colsample_bytree=0.30000000000000004, score=0.929, total=   6.8s\n",
            "[CV] subsample=0.5, silent=1, reg_lambda=0.30000000000000004, reg_alpha=0.4, nthread=-1, n_estimators=1500, max_depth=3, learning_rate=0.04, gamma=0.01, colsample_bytree=0.30000000000000004 \n",
            "[CV]  subsample=0.5, silent=1, reg_lambda=0.30000000000000004, reg_alpha=0.4, nthread=-1, n_estimators=1500, max_depth=3, learning_rate=0.04, gamma=0.01, colsample_bytree=0.30000000000000004, score=0.929, total=   6.9s\n",
            "[CV] subsample=0.5, silent=1, reg_lambda=0.30000000000000004, reg_alpha=0.4, nthread=-1, n_estimators=1500, max_depth=3, learning_rate=0.04, gamma=0.01, colsample_bytree=0.30000000000000004 \n",
            "[CV]  subsample=0.5, silent=1, reg_lambda=0.30000000000000004, reg_alpha=0.4, nthread=-1, n_estimators=1500, max_depth=3, learning_rate=0.04, gamma=0.01, colsample_bytree=0.30000000000000004, score=0.931, total=   6.9s\n",
            "[CV] subsample=0.5, silent=1, reg_lambda=0.30000000000000004, reg_alpha=0.4, nthread=-1, n_estimators=1500, max_depth=3, learning_rate=0.04, gamma=0.01, colsample_bytree=0.30000000000000004 \n",
            "[CV]  subsample=0.5, silent=1, reg_lambda=0.30000000000000004, reg_alpha=0.4, nthread=-1, n_estimators=1500, max_depth=3, learning_rate=0.04, gamma=0.01, colsample_bytree=0.30000000000000004, score=0.928, total=   6.9s\n"
          ]
        },
        {
          "output_type": "stream",
          "name": "stderr",
          "text": [
            "[Parallel(n_jobs=1)]: Done 100 out of 100 | elapsed: 21.7min finished\n"
          ]
        },
        {
          "output_type": "execute_result",
          "data": {
            "text/plain": [
              "RandomizedSearchCV(cv=5, error_score=nan,\n",
              "                   estimator=XGBRegressor(base_score=0.5, booster='gbtree',\n",
              "                                          colsample_bylevel=1,\n",
              "                                          colsample_bynode=1,\n",
              "                                          colsample_bytree=1, gamma=0,\n",
              "                                          importance_type='gain',\n",
              "                                          learning_rate=0.1, max_delta_step=0,\n",
              "                                          max_depth=3, min_child_weight=1,\n",
              "                                          missing=None, n_estimators=100,\n",
              "                                          n_jobs=1, nthread=None,\n",
              "                                          objective='reg:linear',\n",
              "                                          random_state=0, reg_alpha=...\n",
              "                                        'n_estimators': array([1500, 1600, 1700, 1800, 1900, 2000, 2100, 2200, 2300, 2400]),\n",
              "                                        'nthread': [-1],\n",
              "                                        'reg_alpha': array([0. , 0.1, 0.2, 0.3, 0.4, 0.5, 0.6, 0.7, 0.8, 0.9]),\n",
              "                                        'reg_lambda': array([0. , 0.1, 0.2, 0.3, 0.4, 0.5, 0.6, 0.7, 0.8, 0.9]),\n",
              "                                        'silent': [1],\n",
              "                                        'subsample': array([0.1, 0.2, 0.3, 0.4, 0.5, 0.6, 0.7, 0.8, 0.9])},\n",
              "                   pre_dispatch='2*n_jobs', random_state=None, refit=True,\n",
              "                   return_train_score=False, scoring='r2', verbose=3)"
            ]
          },
          "metadata": {},
          "execution_count": 69
        }
      ]
    },
    {
      "cell_type": "code",
      "metadata": {
        "colab": {
          "base_uri": "https://localhost:8080/"
        },
        "id": "0SkKjgomoo8N",
        "outputId": "610990f5-7fbb-45df-9274-047c475c7e1e"
      },
      "source": [
        "model.best_score_"
      ],
      "execution_count": 71,
      "outputs": [
        {
          "output_type": "execute_result",
          "data": {
            "text/plain": [
              "0.9327164102350214"
            ]
          },
          "metadata": {},
          "execution_count": 71
        }
      ]
    },
    {
      "cell_type": "markdown",
      "metadata": {
        "id": "TW2WO_jI0SIh"
      },
      "source": [
        "The hyperparameter tuning has improved model's score. So we go with the optimized XGBoost for the final stage--> **Deployment**!"
      ]
    },
    {
      "cell_type": "code",
      "metadata": {
        "id": "9pKydHlF5TSb"
      },
      "source": [
        "filename = 'bunrout_model_xgb.pkl'\n",
        "pickle.dump(model, open(filename, 'wb'))"
      ],
      "execution_count": 78,
      "outputs": []
    },
    {
      "cell_type": "code",
      "metadata": {
        "id": "i8i-XFbW59qk"
      },
      "source": [
        "user = np.array([[2],[3],[6],[1],[1],[1]])\n",
        "user = user.reshape(1,6)"
      ],
      "execution_count": 79,
      "outputs": []
    },
    {
      "cell_type": "code",
      "metadata": {
        "colab": {
          "base_uri": "https://localhost:8080/"
        },
        "id": "wtAgOvyt5XkY",
        "outputId": "18ef277d-570a-4594-f227-aa6fa72d1194"
      },
      "source": [
        "loaded_model = pickle.load(open('/content/bunrout_model_xgb.pkl', 'rb'))"
      ],
      "execution_count": 80,
      "outputs": [
        {
          "output_type": "stream",
          "name": "stdout",
          "text": [
            "[04:26:01] WARNING: /workspace/src/objective/regression_obj.cu:152: reg:linear is now deprecated in favor of reg:squarederror.\n"
          ]
        }
      ]
    },
    {
      "cell_type": "code",
      "metadata": {
        "id": "LFS0V_nY-rur"
      },
      "source": [
        "test = pd.DataFrame(user,columns = ['Designation', 'Resource Allocation', 'Mental Fatigue Score', 'Gender_Female', 'Company Type_Service', 'WFH Setup Available_Yes'])"
      ],
      "execution_count": 81,
      "outputs": []
    },
    {
      "cell_type": "code",
      "metadata": {
        "colab": {
          "base_uri": "https://localhost:8080/",
          "height": 98
        },
        "id": "bnI4yDnE-4wn",
        "outputId": "56244133-8500-4b8d-84b6-50bdc8258218"
      },
      "source": [
        "test"
      ],
      "execution_count": 82,
      "outputs": [
        {
          "output_type": "execute_result",
          "data": {
            "text/html": [
              "<div>\n",
              "<style scoped>\n",
              "    .dataframe tbody tr th:only-of-type {\n",
              "        vertical-align: middle;\n",
              "    }\n",
              "\n",
              "    .dataframe tbody tr th {\n",
              "        vertical-align: top;\n",
              "    }\n",
              "\n",
              "    .dataframe thead th {\n",
              "        text-align: right;\n",
              "    }\n",
              "</style>\n",
              "<table border=\"1\" class=\"dataframe\">\n",
              "  <thead>\n",
              "    <tr style=\"text-align: right;\">\n",
              "      <th></th>\n",
              "      <th>Designation</th>\n",
              "      <th>Resource Allocation</th>\n",
              "      <th>Mental Fatigue Score</th>\n",
              "      <th>Gender_Female</th>\n",
              "      <th>Company Type_Service</th>\n",
              "      <th>WFH Setup Available_Yes</th>\n",
              "    </tr>\n",
              "  </thead>\n",
              "  <tbody>\n",
              "    <tr>\n",
              "      <th>0</th>\n",
              "      <td>2</td>\n",
              "      <td>3</td>\n",
              "      <td>6</td>\n",
              "      <td>1</td>\n",
              "      <td>1</td>\n",
              "      <td>1</td>\n",
              "    </tr>\n",
              "  </tbody>\n",
              "</table>\n",
              "</div>"
            ],
            "text/plain": [
              "   Designation  ...  WFH Setup Available_Yes\n",
              "0            2  ...                        1\n",
              "\n",
              "[1 rows x 6 columns]"
            ]
          },
          "metadata": {},
          "execution_count": 82
        }
      ]
    },
    {
      "cell_type": "code",
      "metadata": {
        "colab": {
          "base_uri": "https://localhost:8080/"
        },
        "id": "_WmwClb96vmy",
        "outputId": "46ebcd19-4831-4a27-a876-00348843b0f0"
      },
      "source": [
        "loaded_model.predict(test)"
      ],
      "execution_count": 83,
      "outputs": [
        {
          "output_type": "execute_result",
          "data": {
            "text/plain": [
              "array([0.43553963], dtype=float32)"
            ]
          },
          "metadata": {},
          "execution_count": 83
        }
      ]
    },
    {
      "cell_type": "code",
      "metadata": {
        "id": "x5mSPH4okf1l"
      },
      "source": [
        ""
      ],
      "execution_count": null,
      "outputs": []
    }
  ]
}